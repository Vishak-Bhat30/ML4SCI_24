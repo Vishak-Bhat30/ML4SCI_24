{
 "cells": [
  {
   "cell_type": "code",
   "execution_count": null,
   "id": "7184f59b",
   "metadata": {
    "papermill": {
     "duration": 0.005551,
     "end_time": "2024-03-28T05:03:44.218604",
     "exception": false,
     "start_time": "2024-03-28T05:03:44.213053",
     "status": "completed"
    },
    "tags": []
   },
   "outputs": [],
   "source": []
  },
  {
   "cell_type": "code",
   "execution_count": 1,
   "id": "089dd854",
   "metadata": {
    "_cell_guid": "b1076dfc-b9ad-4769-8c92-a6c4dae69d19",
    "_uuid": "8f2839f25d086af736a60e9eeb907d3b93b6e0e5",
    "execution": {
     "iopub.execute_input": "2024-03-28T05:03:44.230076Z",
     "iopub.status.busy": "2024-03-28T05:03:44.229775Z",
     "iopub.status.idle": "2024-03-28T05:03:52.709937Z",
     "shell.execute_reply": "2024-03-28T05:03:52.709054Z"
    },
    "papermill": {
     "duration": 8.488243,
     "end_time": "2024-03-28T05:03:52.712155",
     "exception": false,
     "start_time": "2024-03-28T05:03:44.223912",
     "status": "completed"
    },
    "tags": []
   },
   "outputs": [],
   "source": [
    "import torch\n",
    "import numpy as np\n",
    "import pandas as pd\n",
    "import pyarrow.parquet as pq\n",
    "import matplotlib.pyplot as plt\n",
    "from sklearn.model_selection import train_test_split\n",
    "\n",
    "import torch\n",
    "import torch.nn as nn\n",
    "from torch.utils.data import Dataset,DataLoader, random_split\n",
    "import torch.nn.functional as F\n",
    "from torchvision import models\n",
    "\n",
    "import torch.optim as optim\n",
    "from tqdm import tqdm\n",
    "\n",
    "from sklearn.metrics import roc_auc_score, confusion_matrix ,roc_curve\n",
    "import seaborn as sns\n",
    "from skimage.segmentation import slic"
   ]
  },
  {
   "cell_type": "code",
   "execution_count": 2,
   "id": "a11c7792",
   "metadata": {
    "execution": {
     "iopub.execute_input": "2024-03-28T05:03:52.723481Z",
     "iopub.status.busy": "2024-03-28T05:03:52.723064Z",
     "iopub.status.idle": "2024-03-28T05:04:18.933499Z",
     "shell.execute_reply": "2024-03-28T05:04:18.932357Z"
    },
    "papermill": {
     "duration": 26.218736,
     "end_time": "2024-03-28T05:04:18.935871",
     "exception": false,
     "start_time": "2024-03-28T05:03:52.717135",
     "status": "completed"
    },
    "tags": []
   },
   "outputs": [
    {
     "name": "stdout",
     "output_type": "stream",
     "text": [
      "Collecting torch_geometric\r\n",
      "  Downloading torch_geometric-2.5.2-py3-none-any.whl.metadata (64 kB)\r\n",
      "\u001b[2K     \u001b[90m━━━━━━━━━━━━━━━━━━━━━━━━━━━━━━━━━━━━━━━━\u001b[0m \u001b[32m64.2/64.2 kB\u001b[0m \u001b[31m2.6 MB/s\u001b[0m eta \u001b[36m0:00:00\u001b[0m\r\n",
      "\u001b[?25hRequirement already satisfied: tqdm in /opt/conda/lib/python3.10/site-packages (from torch_geometric) (4.66.1)\r\n",
      "Requirement already satisfied: numpy in /opt/conda/lib/python3.10/site-packages (from torch_geometric) (1.26.4)\r\n",
      "Requirement already satisfied: scipy in /opt/conda/lib/python3.10/site-packages (from torch_geometric) (1.11.4)\r\n",
      "Requirement already satisfied: fsspec in /opt/conda/lib/python3.10/site-packages (from torch_geometric) (2024.3.0)\r\n",
      "Requirement already satisfied: jinja2 in /opt/conda/lib/python3.10/site-packages (from torch_geometric) (3.1.2)\r\n",
      "Requirement already satisfied: aiohttp in /opt/conda/lib/python3.10/site-packages (from torch_geometric) (3.9.1)\r\n",
      "Requirement already satisfied: requests in /opt/conda/lib/python3.10/site-packages (from torch_geometric) (2.31.0)\r\n",
      "Requirement already satisfied: pyparsing in /opt/conda/lib/python3.10/site-packages (from torch_geometric) (3.1.1)\r\n",
      "Requirement already satisfied: scikit-learn in /opt/conda/lib/python3.10/site-packages (from torch_geometric) (1.2.2)\r\n",
      "Requirement already satisfied: psutil>=5.8.0 in /opt/conda/lib/python3.10/site-packages (from torch_geometric) (5.9.3)\r\n",
      "Requirement already satisfied: attrs>=17.3.0 in /opt/conda/lib/python3.10/site-packages (from aiohttp->torch_geometric) (23.2.0)\r\n",
      "Requirement already satisfied: multidict<7.0,>=4.5 in /opt/conda/lib/python3.10/site-packages (from aiohttp->torch_geometric) (6.0.4)\r\n",
      "Requirement already satisfied: yarl<2.0,>=1.0 in /opt/conda/lib/python3.10/site-packages (from aiohttp->torch_geometric) (1.9.3)\r\n",
      "Requirement already satisfied: frozenlist>=1.1.1 in /opt/conda/lib/python3.10/site-packages (from aiohttp->torch_geometric) (1.4.1)\r\n",
      "Requirement already satisfied: aiosignal>=1.1.2 in /opt/conda/lib/python3.10/site-packages (from aiohttp->torch_geometric) (1.3.1)\r\n",
      "Requirement already satisfied: async-timeout<5.0,>=4.0 in /opt/conda/lib/python3.10/site-packages (from aiohttp->torch_geometric) (4.0.3)\r\n",
      "Requirement already satisfied: MarkupSafe>=2.0 in /opt/conda/lib/python3.10/site-packages (from jinja2->torch_geometric) (2.1.3)\r\n",
      "Requirement already satisfied: charset-normalizer<4,>=2 in /opt/conda/lib/python3.10/site-packages (from requests->torch_geometric) (3.3.2)\r\n",
      "Requirement already satisfied: idna<4,>=2.5 in /opt/conda/lib/python3.10/site-packages (from requests->torch_geometric) (3.6)\r\n",
      "Requirement already satisfied: urllib3<3,>=1.21.1 in /opt/conda/lib/python3.10/site-packages (from requests->torch_geometric) (1.26.18)\r\n",
      "Requirement already satisfied: certifi>=2017.4.17 in /opt/conda/lib/python3.10/site-packages (from requests->torch_geometric) (2024.2.2)\r\n",
      "Requirement already satisfied: joblib>=1.1.1 in /opt/conda/lib/python3.10/site-packages (from scikit-learn->torch_geometric) (1.3.2)\r\n",
      "Requirement already satisfied: threadpoolctl>=2.0.0 in /opt/conda/lib/python3.10/site-packages (from scikit-learn->torch_geometric) (3.2.0)\r\n",
      "Downloading torch_geometric-2.5.2-py3-none-any.whl (1.1 MB)\r\n",
      "\u001b[2K   \u001b[90m━━━━━━━━━━━━━━━━━━━━━━━━━━━━━━━━━━━━━━━━\u001b[0m \u001b[32m1.1/1.1 MB\u001b[0m \u001b[31m24.6 MB/s\u001b[0m eta \u001b[36m0:00:00\u001b[0m\r\n",
      "\u001b[?25hInstalling collected packages: torch_geometric\r\n",
      "Successfully installed torch_geometric-2.5.2\r\n",
      "Requirement already satisfied: networkx in /opt/conda/lib/python3.10/site-packages (3.2.1)\r\n"
     ]
    }
   ],
   "source": [
    "!pip install torch_geometric\n",
    "!pip install networkx"
   ]
  },
  {
   "cell_type": "code",
   "execution_count": 3,
   "id": "8f0e3ed6",
   "metadata": {
    "execution": {
     "iopub.execute_input": "2024-03-28T05:04:18.949866Z",
     "iopub.status.busy": "2024-03-28T05:04:18.949129Z",
     "iopub.status.idle": "2024-03-28T05:04:21.195247Z",
     "shell.execute_reply": "2024-03-28T05:04:21.194501Z"
    },
    "papermill": {
     "duration": 2.255468,
     "end_time": "2024-03-28T05:04:21.197465",
     "exception": false,
     "start_time": "2024-03-28T05:04:18.941997",
     "status": "completed"
    },
    "tags": []
   },
   "outputs": [],
   "source": [
    "from torch_geometric.data import Data\n",
    "from sklearn.neighbors import kneighbors_graph\n",
    "from torch_geometric.data import Dataset, Data, DataLoader\n",
    "from sklearn.metrics import mean_squared_error\n",
    "from sklearn.neighbors import NearestNeighbors\n",
    "import networkx as nx\n",
    "from torch_geometric.utils import to_networkx\n",
    "\n",
    "\n",
    "\n",
    "from torch_geometric.loader import DataLoader\n",
    "from torch_geometric.nn import GCNConv, global_mean_pool\n",
    "from torch.nn import Linear\n",
    "import torch.nn.functional as F\n",
    "from torch.utils.data import random_split\n",
    "from torch.nn import Sequential, Linear, ReLU\n",
    "from torch_geometric.nn import NNConv, global_mean_pool\n",
    "from torch_geometric.nn import GATConv\n",
    "from skimage import io"
   ]
  },
  {
   "cell_type": "code",
   "execution_count": 4,
   "id": "292fc16a",
   "metadata": {
    "execution": {
     "iopub.execute_input": "2024-03-28T05:04:21.211417Z",
     "iopub.status.busy": "2024-03-28T05:04:21.210582Z",
     "iopub.status.idle": "2024-03-28T05:04:34.900064Z",
     "shell.execute_reply": "2024-03-28T05:04:34.899248Z"
    },
    "papermill": {
     "duration": 13.698992,
     "end_time": "2024-03-28T05:04:34.902512",
     "exception": false,
     "start_time": "2024-03-28T05:04:21.203520",
     "status": "completed"
    },
    "tags": []
   },
   "outputs": [],
   "source": [
    "chunk_size = 25\n",
    "\n",
    "# List of Parquet file paths\n",
    "file_paths = [\n",
    "    '/kaggle/input/task2-24/QCDToGGQQ_IMGjet_RH1all_jet0_run0_n36272.test.snappy.parquet',\n",
    "    '/kaggle/input/task2-24/QCDToGGQQ_IMGjet_RH1all_jet0_run1_n47540.test.snappy.parquet',\n",
    "    '/kaggle/input/task2-24/QCDToGGQQ_IMGjet_RH1all_jet0_run2_n55494.test.snappy.parquet'\n",
    "]\n",
    "\n",
    "# Initialize an empty list to store dataframes\n",
    "dfs = []\n",
    "\n",
    "# Loop through each file path\n",
    "for file_path in file_paths:\n",
    "    # Create a Parquet file reader object\n",
    "    parquet_file = pq.ParquetFile(file_path)\n",
    "    \n",
    "    # Determine the total number of rows in the file\n",
    "    total_rows = parquet_file.metadata.num_rows\n",
    "    \n",
    "    # Calculate the number of chunks\n",
    "    num_chunks = total_rows // chunk_size + (1 if total_rows % chunk_size else 0)\n",
    "    \n",
    "    # Loop over the file in chunks\n",
    "    for chunk_index in range(num_chunks):\n",
    "        # Read a chunk of rows from the file\n",
    "        chunk = parquet_file.read_row_group(chunk_index, columns=None)\n",
    "        df = chunk.to_pandas()\n",
    "        \n",
    "        # Append the DataFrame to the list\n",
    "        dfs.append(df)\n",
    "\n",
    "# Concatenate all the DataFrames into a single DataFrame\n",
    "data = pd.concat(dfs, ignore_index=True)\n"
   ]
  },
  {
   "cell_type": "code",
   "execution_count": 5,
   "id": "dc7cc2aa",
   "metadata": {
    "execution": {
     "iopub.execute_input": "2024-03-28T05:04:34.916234Z",
     "iopub.status.busy": "2024-03-28T05:04:34.915684Z",
     "iopub.status.idle": "2024-03-28T05:04:34.921511Z",
     "shell.execute_reply": "2024-03-28T05:04:34.920679Z"
    },
    "papermill": {
     "duration": 0.014906,
     "end_time": "2024-03-28T05:04:34.923515",
     "exception": false,
     "start_time": "2024-03-28T05:04:34.908609",
     "status": "completed"
    },
    "tags": []
   },
   "outputs": [],
   "source": [
    "def to_3d(arr):\n",
    "    vishak=[]\n",
    "    for i in range (0,3):\n",
    "        vis=np.stack(np.stack(arr)[i],axis=-1)\n",
    "        vishak.append(vis)\n",
    "    vishak=np.array(vishak)\n",
    "    vishak_max = vishak.max()\n",
    "    vishak_min = vishak.min()\n",
    "    vishak = (vishak - vishak_min)/(vishak_max - vishak_min)\n",
    "    return vishak"
   ]
  },
  {
   "cell_type": "code",
   "execution_count": 6,
   "id": "c658ec76",
   "metadata": {
    "execution": {
     "iopub.execute_input": "2024-03-28T05:04:34.936722Z",
     "iopub.status.busy": "2024-03-28T05:04:34.935944Z",
     "iopub.status.idle": "2024-03-28T05:04:40.463875Z",
     "shell.execute_reply": "2024-03-28T05:04:40.462592Z"
    },
    "papermill": {
     "duration": 5.537118,
     "end_time": "2024-03-28T05:04:40.466428",
     "exception": false,
     "start_time": "2024-03-28T05:04:34.929310",
     "status": "completed"
    },
    "tags": []
   },
   "outputs": [],
   "source": [
    "data[\"X_jets\"]  = data[\"X_jets\"].apply(to_3d)"
   ]
  },
  {
   "cell_type": "code",
   "execution_count": 7,
   "id": "f612ae8b",
   "metadata": {
    "execution": {
     "iopub.execute_input": "2024-03-28T05:04:40.480997Z",
     "iopub.status.busy": "2024-03-28T05:04:40.480634Z",
     "iopub.status.idle": "2024-03-28T05:04:40.490509Z",
     "shell.execute_reply": "2024-03-28T05:04:40.489510Z"
    },
    "papermill": {
     "duration": 0.018763,
     "end_time": "2024-03-28T05:04:40.492387",
     "exception": false,
     "start_time": "2024-03-28T05:04:40.473624",
     "status": "completed"
    },
    "tags": []
   },
   "outputs": [],
   "source": [
    "def image_to_graph(image, patch_size=5, n_neighbors=5):\n",
    "        \"\"\"\n",
    "        Convert an image to a graph of its 5x5 patches.\n",
    "\n",
    "        Parameters:\n",
    "        - image: A (125, 125, 3) numpy array.\n",
    "        - patch_size: Size of the square patches (default 5).\n",
    "        - n_neighbors: Number of neighbors for KNN (default 5).\n",
    "\n",
    "        Returns:\n",
    "        - nodes: An array of node features.\n",
    "        - edges: A list of tuples (i, j, mse) representing edges and their MSE.\n",
    "        \"\"\"\n",
    "        # Validate image shape\n",
    "        \n",
    "        assert image.shape[0] == image.shape[1], \"Image must be square.\"\n",
    "\n",
    "        # Number of patches along one dimension\n",
    "        num_patches = image.shape[0] // patch_size\n",
    "\n",
    "        # Initialize nodes and edges\n",
    "        nodes = []\n",
    "        edges = []\n",
    "\n",
    "        # Create patches and flatten them to create node features\n",
    "        for i in range(0, image.shape[0], patch_size):\n",
    "            for j in range(0, image.shape[1], patch_size):\n",
    "                patch = image[i:i+patch_size, j:j+patch_size, :].reshape(-1)\n",
    "                nodes.append(patch)\n",
    "\n",
    "        nodes = np.array(nodes)\n",
    "\n",
    "        # Use KNN to find nearest neighbors for each node\n",
    "        nbrs = NearestNeighbors(n_neighbors=n_neighbors+1, algorithm='ball_tree').fit(nodes)\n",
    "        distances, indices = nbrs.kneighbors(nodes)\n",
    "\n",
    "        # Calculate MSE for each pair of neighbors and create edges\n",
    "        for i in range(indices.shape[0]):\n",
    "            for j in range(1, indices.shape[1]):  # Start from 1 to skip self-connection\n",
    "                mse = mean_squared_error(nodes[i], nodes[indices[i, j]])\n",
    "                edges.append((i, indices[i, j], mse))\n",
    "\n",
    "        return nodes, edges"
   ]
  },
  {
   "cell_type": "code",
   "execution_count": 8,
   "id": "091f5ce7",
   "metadata": {
    "execution": {
     "iopub.execute_input": "2024-03-28T05:04:40.505331Z",
     "iopub.status.busy": "2024-03-28T05:04:40.505037Z",
     "iopub.status.idle": "2024-03-28T05:04:40.513979Z",
     "shell.execute_reply": "2024-03-28T05:04:40.513125Z"
    },
    "papermill": {
     "duration": 0.017485,
     "end_time": "2024-03-28T05:04:40.515952",
     "exception": false,
     "start_time": "2024-03-28T05:04:40.498467",
     "status": "completed"
    },
    "tags": []
   },
   "outputs": [],
   "source": [
    "class QuarkGluonDataset(Dataset):\n",
    "    \n",
    "    def __init__(self, dataframe, root='', transform=None, pre_transform=None):\n",
    "        \"\"\"\n",
    "        Custom dataset for quarks and gluons classification.\n",
    "        \n",
    "        Parameters:\n",
    "        - image_list: A list of (125, 125, 3) numpy arrays.\n",
    "        - labels: A list of integers (0 or 1) representing the class labels for the images.\n",
    "        \"\"\"\n",
    "        self.dataframe = dataframe\n",
    "        super(QuarkGluonDataset, self).__init__(root, transform, pre_transform)\n",
    "    \n",
    "   \n",
    "    def len(self):\n",
    "        return len(self.dataframe)\n",
    "    \n",
    "    def get(self, idx):\n",
    "        # Convert an image to graph data\n",
    "        image = self.dataframe.iloc[idx]['X_jets']\n",
    "        image = image.transpose(1,2,0)\n",
    "        label = self.dataframe.iloc[idx]['y']\n",
    "#         print(type(image))\n",
    "        nodes, edges = image_to_graph(image)\n",
    "        \n",
    "        # Convert to PyTorch tensors\n",
    "        x = torch.tensor(nodes, dtype=torch.float)  # Node features\n",
    "        edge_index = torch.tensor([(i, j) for i, j, _ in edges], dtype=torch.long).t().contiguous()  # Edge indices\n",
    "        edge_attr = torch.tensor([mse for _, _, mse in edges], dtype=torch.float).unsqueeze(1)  # Edge attributes\n",
    "        y = torch.tensor([label], dtype=torch.long)  # Label\n",
    "        \n",
    "        return Data(x=x, edge_index=edge_index, edge_attr=edge_attr, y=y)"
   ]
  },
  {
   "cell_type": "code",
   "execution_count": 9,
   "id": "b6d93d0d",
   "metadata": {
    "execution": {
     "iopub.execute_input": "2024-03-28T05:04:40.528823Z",
     "iopub.status.busy": "2024-03-28T05:04:40.528349Z",
     "iopub.status.idle": "2024-03-28T05:04:40.548536Z",
     "shell.execute_reply": "2024-03-28T05:04:40.547679Z"
    },
    "papermill": {
     "duration": 0.028742,
     "end_time": "2024-03-28T05:04:40.550466",
     "exception": false,
     "start_time": "2024-03-28T05:04:40.521724",
     "status": "completed"
    },
    "tags": []
   },
   "outputs": [],
   "source": [
    "dataset = QuarkGluonDataset(data)\n",
    "dataset_size = len(dataset)\n",
    "train_size = int(0.8 * dataset_size)\n",
    "test_size = dataset_size - train_size\n",
    "\n",
    "# Perform the random split\n",
    "train_dataset, test_dataset = random_split(dataset, [train_size, test_size])\n",
    "\n",
    "# Create the DataLoaders for the train and test sets\n",
    "train_loader = DataLoader(train_dataset, batch_size=32, shuffle=True)\n",
    "valid_loader = DataLoader(test_dataset, batch_size=32, shuffle=False)\n"
   ]
  },
  {
   "cell_type": "code",
   "execution_count": 10,
   "id": "d67d0376",
   "metadata": {
    "execution": {
     "iopub.execute_input": "2024-03-28T05:04:40.563982Z",
     "iopub.status.busy": "2024-03-28T05:04:40.563231Z",
     "iopub.status.idle": "2024-03-28T05:04:40.920398Z",
     "shell.execute_reply": "2024-03-28T05:04:40.919294Z"
    },
    "papermill": {
     "duration": 0.366337,
     "end_time": "2024-03-28T05:04:40.922749",
     "exception": false,
     "start_time": "2024-03-28T05:04:40.556412",
     "status": "completed"
    },
    "tags": []
   },
   "outputs": [
    {
     "name": "stdout",
     "output_type": "stream",
     "text": [
      "GraphSAGENet(\n",
      "  (sage1): SAGEConv(75, 512, aggr=mean)\n",
      "  (sage2): SAGEConv(512, 256, aggr=mean)\n",
      "  (sage3): SAGEConv(256, 128, aggr=mean)\n",
      "  (dropout): Dropout(p=0.5, inplace=False)\n",
      "  (lin): Linear(in_features=128, out_features=2, bias=True)\n",
      ")\n"
     ]
    }
   ],
   "source": [
    "from torch_geometric.nn import SAGEConv, global_mean_pool\n",
    "from torch.nn import Linear, Dropout\n",
    "import torch.nn.functional as F\n",
    "\n",
    "class GraphSAGENet(torch.nn.Module):\n",
    "    def __init__(self, num_node_features, num_classes):\n",
    "        super(GraphSAGENet, self).__init__()\n",
    "        self.sage1 = SAGEConv(num_node_features, 512)\n",
    "        self.sage2 = SAGEConv(512, 256)\n",
    "        self.sage3 = SAGEConv(256, 128)\n",
    "        self.dropout = Dropout(0.5)\n",
    "        self.lin = Linear(128, num_classes)\n",
    "\n",
    "    def forward(self, data):\n",
    "        x, edge_index, batch = data.x, data.edge_index, data.batch\n",
    "\n",
    "        x = F.relu(self.sage1(x, edge_index))\n",
    "        x = self.dropout(x)\n",
    "        x = F.relu(self.sage2(x, edge_index))\n",
    "        x = self.dropout(x)\n",
    "        x = F.relu(self.sage3(x, edge_index))\n",
    "\n",
    "        x = global_mean_pool(x, batch)  # Pooling to use graph-level features\n",
    "        x = self.dropout(x)\n",
    "        x = self.lin(x)\n",
    "\n",
    "        return x\n",
    "\n",
    "# Initialize the GraphSAGE model\n",
    "num_node_features = 75  # Adjust according to your dataset\n",
    "num_classes = 2  # Assuming binary classification\n",
    "\n",
    "model = GraphSAGENet(num_node_features=num_node_features, num_classes=num_classes)\n",
    "model.load_state_dict(torch.load(\"/kaggle/input/fork-of-graphsage-final/best_model.pth\"))\n",
    "print(model)"
   ]
  },
  {
   "cell_type": "markdown",
   "id": "71b8c74e",
   "metadata": {
    "papermill": {
     "duration": 0.005749,
     "end_time": "2024-03-28T05:04:40.934660",
     "exception": false,
     "start_time": "2024-03-28T05:04:40.928911",
     "status": "completed"
    },
    "tags": []
   },
   "source": [
    "# Loaded the weights that was already trained for 10 epochs and now trainning for more 5 epochs resulting in 15 epochs."
   ]
  },
  {
   "cell_type": "code",
   "execution_count": 11,
   "id": "8cf12856",
   "metadata": {
    "execution": {
     "iopub.execute_input": "2024-03-28T05:04:40.948530Z",
     "iopub.status.busy": "2024-03-28T05:04:40.948213Z",
     "iopub.status.idle": "2024-03-28T09:42:33.362028Z",
     "shell.execute_reply": "2024-03-28T09:42:33.361082Z"
    },
    "papermill": {
     "duration": 16672.423333,
     "end_time": "2024-03-28T09:42:33.364673",
     "exception": false,
     "start_time": "2024-03-28T05:04:40.941340",
     "status": "completed"
    },
    "tags": []
   },
   "outputs": [
    {
     "name": "stdout",
     "output_type": "stream",
     "text": [
      "Using device: cuda\n"
     ]
    },
    {
     "name": "stderr",
     "output_type": "stream",
     "text": [
      "                                                           \r"
     ]
    },
    {
     "name": "stdout",
     "output_type": "stream",
     "text": [
      "Saved Best Model: Epoch 1, Val. Acc.: 0.6987\n",
      "Epoch: 001, Train Loss: 0.6180, Val. Loss: 0.5971, Val. Acc.: 0.6987\n"
     ]
    },
    {
     "name": "stderr",
     "output_type": "stream",
     "text": [
      "                                                           \r"
     ]
    },
    {
     "name": "stdout",
     "output_type": "stream",
     "text": [
      "Saved Best Model: Epoch 2, Val. Acc.: 0.7112\n",
      "Epoch: 002, Train Loss: 0.6076, Val. Loss: 0.5928, Val. Acc.: 0.7112\n"
     ]
    },
    {
     "name": "stderr",
     "output_type": "stream",
     "text": [
      "                                                           \r"
     ]
    },
    {
     "name": "stdout",
     "output_type": "stream",
     "text": [
      "Epoch: 003, Train Loss: 0.6023, Val. Loss: 0.5854, Val. Acc.: 0.7004\n"
     ]
    },
    {
     "name": "stderr",
     "output_type": "stream",
     "text": [
      "                                                           \r"
     ]
    },
    {
     "name": "stdout",
     "output_type": "stream",
     "text": [
      "Epoch: 004, Train Loss: 0.5938, Val. Loss: 0.5908, Val. Acc.: 0.7031\n"
     ]
    },
    {
     "name": "stderr",
     "output_type": "stream",
     "text": [
      "                                                           \r"
     ]
    },
    {
     "name": "stdout",
     "output_type": "stream",
     "text": [
      "Epoch: 005, Train Loss: 0.5818, Val. Loss: 0.5908, Val. Acc.: 0.7112\n"
     ]
    },
    {
     "data": {
      "image/png": "[encoded data removed]",
      "text/plain": [
       "<Figure size 1200x600 with 2 Axes>"
      ]
     },
     "metadata": {},
     "output_type": "display_data"
    }
   ],
   "source": [
    "device = torch.device(\"cuda\" if torch.cuda.is_available() else \"cpu\")\n",
    "print(f'Using device: {device}')\n",
    "\n",
    "# Move the model to the chosen device\n",
    "model.to(device)\n",
    "\n",
    "def train(model, train_loader, optimizer, criterion, device):\n",
    "    model.train()\n",
    "    total_loss = 0\n",
    "    for data in tqdm(train_loader, desc=\"Training\", leave=False):\n",
    "        data = data.to(device)\n",
    "        optimizer.zero_grad()\n",
    "        out = model(data)\n",
    "        loss = criterion(out, data.y)\n",
    "        loss.backward()\n",
    "        optimizer.step()\n",
    "        total_loss += loss.item() * data.num_graphs\n",
    "    return total_loss / len(train_loader.dataset)\n",
    "\n",
    "def test(model, loader, criterion, device):\n",
    "    model.eval()\n",
    "    correct = 0\n",
    "    total_loss = 0\n",
    "    with torch.no_grad(), tqdm(loader, desc=\"Evaluating\", leave=False) as tepoch:\n",
    "        for data in tepoch:\n",
    "            data = data.to(device)\n",
    "            out = model(data)\n",
    "            loss = criterion(out, data.y)\n",
    "            total_loss += loss.item() * data.num_graphs\n",
    "            pred = out.argmax(dim=1)\n",
    "            correct += int((pred == data.y).sum())\n",
    "    accuracy = correct / len(loader.dataset)\n",
    "    return accuracy, total_loss / len(loader.dataset)\n",
    "\n",
    "optimizer = torch.optim.Adam(model.parameters(), lr=0.001)\n",
    "criterion = torch.nn.CrossEntropyLoss()\n",
    "\n",
    "train_losses = []\n",
    "val_losses = []\n",
    "val_accuracies = []\n",
    "\n",
    "best_val_acc = 0.0\n",
    "for epoch in range(1, 6):\n",
    "    train_loss = train(model, train_loader, optimizer, criterion, device)\n",
    "    val_acc, val_loss = test(model, valid_loader, criterion, device)\n",
    "    \n",
    "    train_losses.append(train_loss)\n",
    "    val_losses.append(val_loss)\n",
    "    val_accuracies.append(val_acc)\n",
    "    \n",
    "    if val_acc > best_val_acc:\n",
    "        best_val_acc = val_acc\n",
    "        torch.save(model.state_dict(), 'best_model.pth')\n",
    "        print(f\"Saved Best Model: Epoch {epoch}, Val. Acc.: {val_acc:.4f}\")\n",
    "    \n",
    "    print(f'Epoch: {epoch:03d}, Train Loss: {train_loss:.4f}, Val. Loss: {val_loss:.4f}, Val. Acc.: {val_acc:.4f}')\n",
    "\n",
    "# Plotting the training curves\n",
    "plt.figure(figsize=(12, 6))\n",
    "plt.subplot(1, 2, 1)\n",
    "plt.plot(train_losses, label='Training Loss')\n",
    "plt.plot(val_losses, label='Validation Loss')\n",
    "plt.xlabel('Epoch')\n",
    "plt.ylabel('Loss')\n",
    "plt.title('Loss Over Epochs')\n",
    "plt.legend()\n",
    "\n",
    "plt.subplot(1, 2, 2)\n",
    "plt.plot(val_accuracies, label='Validation Accuracy')\n",
    "plt.xlabel('Epoch')\n",
    "plt.ylabel('Accuracy')\n",
    "plt.title('Validation Accuracy Over Epochs')\n",
    "plt.legend()\n",
    "\n",
    "plt.tight_layout()\n",
    "plt.show()"
   ]
  },
  {
   "cell_type": "code",
   "execution_count": null,
   "id": "ccde0f56",
   "metadata": {
    "papermill": {
     "duration": 0.076898,
     "end_time": "2024-03-28T09:42:33.519188",
     "exception": false,
     "start_time": "2024-03-28T09:42:33.442290",
     "status": "completed"
    },
    "tags": []
   },
   "outputs": [],
   "source": []
  },
  {
   "cell_type": "code",
   "execution_count": null,
   "id": "05ec8350",
   "metadata": {
    "papermill": {
     "duration": 0.075665,
     "end_time": "2024-03-28T09:42:33.670851",
     "exception": false,
     "start_time": "2024-03-28T09:42:33.595186",
     "status": "completed"
    },
    "tags": []
   },
   "outputs": [],
   "source": []
  },
  {
   "cell_type": "code",
   "execution_count": null,
   "id": "a99c5320",
   "metadata": {
    "papermill": {
     "duration": 0.075108,
     "end_time": "2024-03-28T09:42:33.821450",
     "exception": false,
     "start_time": "2024-03-28T09:42:33.746342",
     "status": "completed"
    },
    "tags": []
   },
   "outputs": [],
   "source": []
  }
 ],
 "metadata": {
  "kaggle": {
   "accelerator": "gpu",
   "dataSources": [
    {
     "datasetId": 4628811,
     "sourceId": 7885350,
     "sourceType": "datasetVersion"
    },
    {
     "sourceId": 168855830,
     "sourceType": "kernelVersion"
    },
    {
     "sourceId": 168941425,
     "sourceType": "kernelVersion"
    }
   ],
   "dockerImageVersionId": 30673,
   "isGpuEnabled": true,
   "isInternetEnabled": true,
   "language": "python",
   "sourceType": "notebook"
  },
  "kernelspec": {
   "display_name": "Python 3",
   "language": "python",
   "name": "python3"
  },
  "language_info": {
   "codemirror_mode": {
    "name": "ipython",
    "version": 3
   },
   "file_extension": ".py",
   "mimetype": "text/x-python",
   "name": "python",
   "nbconvert_exporter": "python",
   "pygments_lexer": "ipython3",
   "version": "3.10.13"
  },
  "papermill": {
   "default_parameters": {},
   "duration": 16734.973795,
   "end_time": "2024-03-28T09:42:36.356600",
   "environment_variables": {},
   "exception": null,
   "input_path": "__notebook__.ipynb",
   "output_path": "__notebook__.ipynb",
   "parameters": {},
   "start_time": "2024-03-28T05:03:41.382805",
   "version": "2.5.0"
  }
 },
 "nbformat": 4,
 "nbformat_minor": 5
}
