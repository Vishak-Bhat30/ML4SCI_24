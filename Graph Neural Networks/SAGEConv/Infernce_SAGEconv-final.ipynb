{
 "cells": [
  {
   "cell_type": "code",
   "execution_count": 1,
   "id": "0057104a",
   "metadata": {
    "_cell_guid": "b1076dfc-b9ad-4769-8c92-a6c4dae69d19",
    "_uuid": "8f2839f25d086af736a60e9eeb907d3b93b6e0e5",
    "execution": {
     "iopub.execute_input": "2024-03-31T11:33:43.615824Z",
     "iopub.status.busy": "2024-03-31T11:33:43.615398Z",
     "iopub.status.idle": "2024-03-31T11:33:52.477514Z",
     "shell.execute_reply": "2024-03-31T11:33:52.476420Z"
    },
    "papermill": {
     "duration": 8.871965,
     "end_time": "2024-03-31T11:33:52.480146",
     "exception": false,
     "start_time": "2024-03-31T11:33:43.608181",
     "status": "completed"
    },
    "tags": []
   },
   "outputs": [],
   "source": [
    "# Import all the libraries !!\n",
    "import torch\n",
    "import numpy as np\n",
    "import pandas as pd\n",
    "import pyarrow.parquet as pq\n",
    "import matplotlib.pyplot as plt\n",
    "from sklearn.model_selection import train_test_split\n",
    "\n",
    "import torch\n",
    "import torch.nn as nn\n",
    "from torch.utils.data import Dataset,DataLoader, random_split\n",
    "import torch.nn.functional as F\n",
    "from torchvision import models\n",
    "\n",
    "import torch.optim as optim\n",
    "from tqdm import tqdm\n",
    "\n",
    "from sklearn.metrics import roc_auc_score, confusion_matrix ,roc_curve\n",
    "import seaborn as sns"
   ]
  },
  {
   "cell_type": "code",
   "execution_count": 2,
   "id": "853a97f4",
   "metadata": {
    "execution": {
     "iopub.execute_input": "2024-03-31T11:33:52.493342Z",
     "iopub.status.busy": "2024-03-31T11:33:52.492821Z",
     "iopub.status.idle": "2024-03-31T11:34:19.780791Z",
     "shell.execute_reply": "2024-03-31T11:34:19.779732Z"
    },
    "papermill": {
     "duration": 27.296813,
     "end_time": "2024-03-31T11:34:19.783096",
     "exception": false,
     "start_time": "2024-03-31T11:33:52.486283",
     "status": "completed"
    },
    "tags": []
   },
   "outputs": [
    {
     "name": "stdout",
     "output_type": "stream",
     "text": [
      "Collecting torch_geometric\r\n",
      "  Downloading torch_geometric-2.5.2-py3-none-any.whl.metadata (64 kB)\r\n",
      "\u001b[2K     \u001b[90m━━━━━━━━━━━━━━━━━━━━━━━━━━━━━━━━━━━━━━━━\u001b[0m \u001b[32m64.2/64.2 kB\u001b[0m \u001b[31m2.5 MB/s\u001b[0m eta \u001b[36m0:00:00\u001b[0m\r\n",
      "\u001b[?25hRequirement already satisfied: tqdm in /opt/conda/lib/python3.10/site-packages (from torch_geometric) (4.66.1)\r\n",
      "Requirement already satisfied: numpy in /opt/conda/lib/python3.10/site-packages (from torch_geometric) (1.26.4)\r\n",
      "Requirement already satisfied: scipy in /opt/conda/lib/python3.10/site-packages (from torch_geometric) (1.11.4)\r\n",
      "Requirement already satisfied: fsspec in /opt/conda/lib/python3.10/site-packages (from torch_geometric) (2024.3.0)\r\n",
      "Requirement already satisfied: jinja2 in /opt/conda/lib/python3.10/site-packages (from torch_geometric) (3.1.2)\r\n",
      "Requirement already satisfied: aiohttp in /opt/conda/lib/python3.10/site-packages (from torch_geometric) (3.9.1)\r\n",
      "Requirement already satisfied: requests in /opt/conda/lib/python3.10/site-packages (from torch_geometric) (2.31.0)\r\n",
      "Requirement already satisfied: pyparsing in /opt/conda/lib/python3.10/site-packages (from torch_geometric) (3.1.1)\r\n",
      "Requirement already satisfied: scikit-learn in /opt/conda/lib/python3.10/site-packages (from torch_geometric) (1.2.2)\r\n",
      "Requirement already satisfied: psutil>=5.8.0 in /opt/conda/lib/python3.10/site-packages (from torch_geometric) (5.9.3)\r\n",
      "Requirement already satisfied: attrs>=17.3.0 in /opt/conda/lib/python3.10/site-packages (from aiohttp->torch_geometric) (23.2.0)\r\n",
      "Requirement already satisfied: multidict<7.0,>=4.5 in /opt/conda/lib/python3.10/site-packages (from aiohttp->torch_geometric) (6.0.4)\r\n",
      "Requirement already satisfied: yarl<2.0,>=1.0 in /opt/conda/lib/python3.10/site-packages (from aiohttp->torch_geometric) (1.9.3)\r\n",
      "Requirement already satisfied: frozenlist>=1.1.1 in /opt/conda/lib/python3.10/site-packages (from aiohttp->torch_geometric) (1.4.1)\r\n",
      "Requirement already satisfied: aiosignal>=1.1.2 in /opt/conda/lib/python3.10/site-packages (from aiohttp->torch_geometric) (1.3.1)\r\n",
      "Requirement already satisfied: async-timeout<5.0,>=4.0 in /opt/conda/lib/python3.10/site-packages (from aiohttp->torch_geometric) (4.0.3)\r\n",
      "Requirement already satisfied: MarkupSafe>=2.0 in /opt/conda/lib/python3.10/site-packages (from jinja2->torch_geometric) (2.1.3)\r\n",
      "Requirement already satisfied: charset-normalizer<4,>=2 in /opt/conda/lib/python3.10/site-packages (from requests->torch_geometric) (3.3.2)\r\n",
      "Requirement already satisfied: idna<4,>=2.5 in /opt/conda/lib/python3.10/site-packages (from requests->torch_geometric) (3.6)\r\n",
      "Requirement already satisfied: urllib3<3,>=1.21.1 in /opt/conda/lib/python3.10/site-packages (from requests->torch_geometric) (1.26.18)\r\n",
      "Requirement already satisfied: certifi>=2017.4.17 in /opt/conda/lib/python3.10/site-packages (from requests->torch_geometric) (2024.2.2)\r\n",
      "Requirement already satisfied: joblib>=1.1.1 in /opt/conda/lib/python3.10/site-packages (from scikit-learn->torch_geometric) (1.3.2)\r\n",
      "Requirement already satisfied: threadpoolctl>=2.0.0 in /opt/conda/lib/python3.10/site-packages (from scikit-learn->torch_geometric) (3.2.0)\r\n",
      "Downloading torch_geometric-2.5.2-py3-none-any.whl (1.1 MB)\r\n",
      "\u001b[2K   \u001b[90m━━━━━━━━━━━━━━━━━━━━━━━━━━━━━━━━━━━━━━━━\u001b[0m \u001b[32m1.1/1.1 MB\u001b[0m \u001b[31m25.6 MB/s\u001b[0m eta \u001b[36m0:00:00\u001b[0m\r\n",
      "\u001b[?25hInstalling collected packages: torch_geometric\r\n",
      "Successfully installed torch_geometric-2.5.2\r\n",
      "Requirement already satisfied: networkx in /opt/conda/lib/python3.10/site-packages (3.2.1)\r\n"
     ]
    }
   ],
   "source": [
    "!pip install torch_geometric\n",
    "!pip install networkx"
   ]
  },
  {
   "cell_type": "code",
   "execution_count": 3,
   "id": "c2bf250c",
   "metadata": {
    "execution": {
     "iopub.execute_input": "2024-03-31T11:34:19.797740Z",
     "iopub.status.busy": "2024-03-31T11:34:19.796991Z",
     "iopub.status.idle": "2024-03-31T11:34:21.874586Z",
     "shell.execute_reply": "2024-03-31T11:34:21.873614Z"
    },
    "papermill": {
     "duration": 2.087487,
     "end_time": "2024-03-31T11:34:21.877152",
     "exception": false,
     "start_time": "2024-03-31T11:34:19.789665",
     "status": "completed"
    },
    "tags": []
   },
   "outputs": [],
   "source": [
    "from torch_geometric.data import Data\n",
    "from sklearn.neighbors import kneighbors_graph\n",
    "from torch_geometric.data import Dataset, Data, DataLoader\n",
    "from sklearn.metrics import mean_squared_error\n",
    "from sklearn.neighbors import NearestNeighbors\n",
    "import networkx as nx\n",
    "from torch_geometric.utils import to_networkx\n",
    "\n",
    "\n",
    "\n",
    "from torch_geometric.loader import DataLoader\n",
    "from torch_geometric.nn import GCNConv, global_mean_pool\n",
    "from torch.nn import Linear\n",
    "import torch.nn.functional as F\n",
    "from torch.utils.data import random_split\n"
   ]
  },
  {
   "cell_type": "code",
   "execution_count": 4,
   "id": "e32b483b",
   "metadata": {
    "execution": {
     "iopub.execute_input": "2024-03-31T11:34:21.893442Z",
     "iopub.status.busy": "2024-03-31T11:34:21.892845Z",
     "iopub.status.idle": "2024-03-31T11:34:37.187471Z",
     "shell.execute_reply": "2024-03-31T11:34:37.186639Z"
    },
    "papermill": {
     "duration": 15.306138,
     "end_time": "2024-03-31T11:34:37.189796",
     "exception": false,
     "start_time": "2024-03-31T11:34:21.883658",
     "status": "completed"
    },
    "tags": []
   },
   "outputs": [],
   "source": [
    "chunk_size = 25\n",
    "\n",
    "# List of Parquet file paths\n",
    "file_paths = [\n",
    "    '/kaggle/input/task2-24/QCDToGGQQ_IMGjet_RH1all_jet0_run0_n36272.test.snappy.parquet',\n",
    "    '/kaggle/input/task2-24/QCDToGGQQ_IMGjet_RH1all_jet0_run1_n47540.test.snappy.parquet',\n",
    "    '/kaggle/input/task2-24/QCDToGGQQ_IMGjet_RH1all_jet0_run2_n55494.test.snappy.parquet'\n",
    "]\n",
    "\n",
    "# Initialize an empty list to store dataframes\n",
    "dfs = []\n",
    "\n",
    "# Loop through each file path\n",
    "for file_path in file_paths:\n",
    "    # Create a Parquet file reader object\n",
    "    parquet_file = pq.ParquetFile(file_path)\n",
    "    \n",
    "    # Determine the total number of rows in the file\n",
    "    total_rows = parquet_file.metadata.num_rows\n",
    "    \n",
    "    # Calculate the number of chunks\n",
    "    num_chunks = total_rows // chunk_size + (1 if total_rows % chunk_size else 0)\n",
    "    \n",
    "    # Loop over the file in chunks\n",
    "    for chunk_index in range(num_chunks):\n",
    "        # Read a chunk of rows from the file\n",
    "        chunk = parquet_file.read_row_group(chunk_index, columns=None)\n",
    "        df = chunk.to_pandas()\n",
    "        \n",
    "        # Append the DataFrame to the list\n",
    "        dfs.append(df)\n",
    "\n",
    "# Concatenate all the DataFrames into a single DataFrame\n",
    "data = pd.concat(dfs, ignore_index=True)\n"
   ]
  },
  {
   "cell_type": "code",
   "execution_count": 5,
   "id": "49017c42",
   "metadata": {
    "execution": {
     "iopub.execute_input": "2024-03-31T11:34:37.203897Z",
     "iopub.status.busy": "2024-03-31T11:34:37.203300Z",
     "iopub.status.idle": "2024-03-31T11:34:37.208338Z",
     "shell.execute_reply": "2024-03-31T11:34:37.207533Z"
    },
    "papermill": {
     "duration": 0.013833,
     "end_time": "2024-03-31T11:34:37.210116",
     "exception": false,
     "start_time": "2024-03-31T11:34:37.196283",
     "status": "completed"
    },
    "tags": []
   },
   "outputs": [],
   "source": [
    "def to_3d(arr):\n",
    "    vishak=[]\n",
    "    for i in range (0,3):\n",
    "        vis=np.stack(np.stack(arr)[i],axis=-1)\n",
    "        vishak.append(vis)\n",
    "    vishak=np.array(vishak)\n",
    "    return vishak"
   ]
  },
  {
   "cell_type": "code",
   "execution_count": 6,
   "id": "b644060d",
   "metadata": {
    "execution": {
     "iopub.execute_input": "2024-03-31T11:34:37.223262Z",
     "iopub.status.busy": "2024-03-31T11:34:37.222726Z",
     "iopub.status.idle": "2024-03-31T11:34:41.647055Z",
     "shell.execute_reply": "2024-03-31T11:34:41.646257Z"
    },
    "papermill": {
     "duration": 4.43342,
     "end_time": "2024-03-31T11:34:41.649402",
     "exception": false,
     "start_time": "2024-03-31T11:34:37.215982",
     "status": "completed"
    },
    "tags": []
   },
   "outputs": [],
   "source": [
    "data[\"X_jets\"]  = data[\"X_jets\"].apply(to_3d)"
   ]
  },
  {
   "cell_type": "code",
   "execution_count": 7,
   "id": "1ae52803",
   "metadata": {
    "execution": {
     "iopub.execute_input": "2024-03-31T11:34:41.663018Z",
     "iopub.status.busy": "2024-03-31T11:34:41.662705Z",
     "iopub.status.idle": "2024-03-31T11:34:41.672044Z",
     "shell.execute_reply": "2024-03-31T11:34:41.671375Z"
    },
    "papermill": {
     "duration": 0.018201,
     "end_time": "2024-03-31T11:34:41.673985",
     "exception": false,
     "start_time": "2024-03-31T11:34:41.655784",
     "status": "completed"
    },
    "tags": []
   },
   "outputs": [],
   "source": [
    "def image_to_graph(image, patch_size=5, n_neighbors=5):\n",
    "        \"\"\"\n",
    "        Convert an image to a graph of its 5x5 patches.\n",
    "\n",
    "        Parameters:\n",
    "        - image: A (125, 125, 3) numpy array.\n",
    "        - patch_size: Size of the square patches (default 5).\n",
    "        - n_neighbors: Number of neighbors for KNN (default 5).\n",
    "\n",
    "        Returns:\n",
    "        - nodes: An array of node features.\n",
    "        - edges: A list of tuples (i, j, mse) representing edges and their MSE.\n",
    "        \"\"\"\n",
    "        # Validate image shape\n",
    "        \n",
    "        assert image.shape[0] == image.shape[1], \"Image must be square.\"\n",
    "\n",
    "        # Number of patches along one dimension\n",
    "        num_patches = image.shape[0] // patch_size\n",
    "\n",
    "        # Initialize nodes and edges\n",
    "        nodes = []\n",
    "        edges = []\n",
    "\n",
    "        # Create patches and flatten them to create node features\n",
    "        for i in range(0, image.shape[0], patch_size):\n",
    "            for j in range(0, image.shape[1], patch_size):\n",
    "                patch = image[i:i+patch_size, j:j+patch_size, :].reshape(-1)\n",
    "                nodes.append(patch)\n",
    "\n",
    "        nodes = np.array(nodes)\n",
    "\n",
    "        # Use KNN to find nearest neighbors for each node\n",
    "        nbrs = NearestNeighbors(n_neighbors=n_neighbors+1, algorithm='ball_tree').fit(nodes)\n",
    "        distances, indices = nbrs.kneighbors(nodes)\n",
    "\n",
    "        # Calculate MSE for each pair of neighbors and create edges\n",
    "        for i in range(indices.shape[0]):\n",
    "            for j in range(1, indices.shape[1]):  # Start from 1 to skip self-connection\n",
    "                mse = mean_squared_error(nodes[i], nodes[indices[i, j]])\n",
    "                edges.append((i, indices[i, j], mse))\n",
    "\n",
    "        return nodes, edges"
   ]
  },
  {
   "cell_type": "code",
   "execution_count": 8,
   "id": "41f0f619",
   "metadata": {
    "execution": {
     "iopub.execute_input": "2024-03-31T11:34:41.687375Z",
     "iopub.status.busy": "2024-03-31T11:34:41.686827Z",
     "iopub.status.idle": "2024-03-31T11:34:41.696387Z",
     "shell.execute_reply": "2024-03-31T11:34:41.695530Z"
    },
    "papermill": {
     "duration": 0.018356,
     "end_time": "2024-03-31T11:34:41.698388",
     "exception": false,
     "start_time": "2024-03-31T11:34:41.680032",
     "status": "completed"
    },
    "tags": []
   },
   "outputs": [],
   "source": [
    "class QuarkGluonDataset(Dataset):\n",
    "    \n",
    "    def __init__(self, dataframe, root='', transform=None, pre_transform=None):\n",
    "        \"\"\"\n",
    "        Custom dataset for quarks and gluons classification.\n",
    "        \n",
    "        Parameters:\n",
    "        - image_list: A list of (125, 125, 3) numpy arrays.\n",
    "        - labels: A list of integers (0 or 1) representing the class labels for the images.\n",
    "        \"\"\"\n",
    "        self.dataframe = dataframe\n",
    "        super(QuarkGluonDataset, self).__init__(root, transform, pre_transform)\n",
    "    \n",
    "   \n",
    "    def len(self):\n",
    "        return len(self.dataframe)\n",
    "    \n",
    "    def get(self, idx):\n",
    "        # Convert an image to graph data\n",
    "        image = self.dataframe.iloc[idx]['X_jets']\n",
    "        image = image.transpose(1,2,0)\n",
    "        label = self.dataframe.iloc[idx]['y']\n",
    "#         print(type(image))\n",
    "        nodes, edges = image_to_graph(image)\n",
    "        \n",
    "        # Convert to PyTorch tensors\n",
    "        x = torch.tensor(nodes, dtype=torch.float)  # Node features\n",
    "        edge_index = torch.tensor([(i, j) for i, j, _ in edges], dtype=torch.long).t().contiguous()  # Edge indices\n",
    "        edge_attr = torch.tensor([mse for _, _, mse in edges], dtype=torch.float).unsqueeze(1)  # Edge attributes\n",
    "        y = torch.tensor([label], dtype=torch.long)  # Label\n",
    "        \n",
    "        return Data(x=x, edge_index=edge_index, edge_attr=edge_attr, y=y)\n",
    "    \n",
    "    "
   ]
  },
  {
   "cell_type": "code",
   "execution_count": 9,
   "id": "ba36b927",
   "metadata": {
    "execution": {
     "iopub.execute_input": "2024-03-31T11:34:41.712199Z",
     "iopub.status.busy": "2024-03-31T11:34:41.711546Z",
     "iopub.status.idle": "2024-03-31T11:34:41.716712Z",
     "shell.execute_reply": "2024-03-31T11:34:41.716083Z"
    },
    "papermill": {
     "duration": 0.014177,
     "end_time": "2024-03-31T11:34:41.718661",
     "exception": false,
     "start_time": "2024-03-31T11:34:41.704484",
     "status": "completed"
    },
    "tags": []
   },
   "outputs": [],
   "source": [
    "dataset = QuarkGluonDataset(data)"
   ]
  },
  {
   "cell_type": "code",
   "execution_count": 10,
   "id": "30d15b30",
   "metadata": {
    "execution": {
     "iopub.execute_input": "2024-03-31T11:34:41.731648Z",
     "iopub.status.busy": "2024-03-31T11:34:41.731289Z",
     "iopub.status.idle": "2024-03-31T11:34:41.747384Z",
     "shell.execute_reply": "2024-03-31T11:34:41.746686Z"
    },
    "papermill": {
     "duration": 0.024774,
     "end_time": "2024-03-31T11:34:41.749295",
     "exception": false,
     "start_time": "2024-03-31T11:34:41.724521",
     "status": "completed"
    },
    "tags": []
   },
   "outputs": [],
   "source": [
    "dataset_size = len(dataset)\n",
    "train_size = int(0.8 * dataset_size)\n",
    "test_size = dataset_size - train_size\n",
    "\n",
    "# Perform the random split\n",
    "train_dataset, test_dataset = random_split(dataset, [train_size, test_size])\n",
    "\n",
    "valid_loader = DataLoader(test_dataset, batch_size=32, shuffle=False)"
   ]
  },
  {
   "cell_type": "code",
   "execution_count": 11,
   "id": "da339930",
   "metadata": {
    "execution": {
     "iopub.execute_input": "2024-03-31T11:34:41.763267Z",
     "iopub.status.busy": "2024-03-31T11:34:41.762742Z",
     "iopub.status.idle": "2024-03-31T11:34:42.107718Z",
     "shell.execute_reply": "2024-03-31T11:34:42.106559Z"
    },
    "papermill": {
     "duration": 0.353581,
     "end_time": "2024-03-31T11:34:42.109822",
     "exception": false,
     "start_time": "2024-03-31T11:34:41.756241",
     "status": "completed"
    },
    "tags": []
   },
   "outputs": [
    {
     "name": "stdout",
     "output_type": "stream",
     "text": [
      "GraphSAGENet(\n",
      "  (sage1): SAGEConv(75, 512, aggr=mean)\n",
      "  (sage2): SAGEConv(512, 256, aggr=mean)\n",
      "  (sage3): SAGEConv(256, 128, aggr=mean)\n",
      "  (dropout): Dropout(p=0.5, inplace=False)\n",
      "  (lin): Linear(in_features=128, out_features=2, bias=True)\n",
      ")\n"
     ]
    }
   ],
   "source": [
    "from torch_geometric.nn import SAGEConv, global_mean_pool\n",
    "from torch.nn import Linear, Dropout\n",
    "import torch.nn.functional as F\n",
    "\n",
    "class GraphSAGENet(torch.nn.Module):\n",
    "    def __init__(self, num_node_features, num_classes):\n",
    "        super(GraphSAGENet, self).__init__()\n",
    "        self.sage1 = SAGEConv(num_node_features, 512)\n",
    "        self.sage2 = SAGEConv(512, 256)\n",
    "        self.sage3 = SAGEConv(256, 128)\n",
    "        self.dropout = Dropout(0.5)\n",
    "        self.lin = Linear(128, num_classes)\n",
    "\n",
    "    def forward(self, data):\n",
    "        x, edge_index, batch = data.x, data.edge_index, data.batch\n",
    "\n",
    "        x = F.relu(self.sage1(x, edge_index))\n",
    "        x = self.dropout(x)\n",
    "        x = F.relu(self.sage2(x, edge_index))\n",
    "        x = self.dropout(x)\n",
    "        x = F.relu(self.sage3(x, edge_index))\n",
    "\n",
    "        x = global_mean_pool(x, batch)  # Pooling to use graph-level features\n",
    "        x = self.dropout(x)\n",
    "        x = self.lin(x)\n",
    "\n",
    "        return x\n",
    "\n",
    "# Initialize the GraphSAGE model\n",
    "num_node_features = 75  # Adjust according to your dataset\n",
    "num_classes = 2  # Assuming binary classification\n",
    "\n",
    "model = GraphSAGENet(num_node_features=num_node_features, num_classes=num_classes)\n",
    "model.load_state_dict(torch.load(\"/kaggle/input/sageconv-model-weights/best_model.pth\"))\n",
    "print(model)"
   ]
  },
  {
   "cell_type": "markdown",
   "id": "e86311b6",
   "metadata": {
    "papermill": {
     "duration": 0.00675,
     "end_time": "2024-03-31T11:34:42.123483",
     "exception": false,
     "start_time": "2024-03-31T11:34:42.116733",
     "status": "completed"
    },
    "tags": []
   },
   "source": [
    "# Inference"
   ]
  },
  {
   "cell_type": "code",
   "execution_count": 12,
   "id": "fc29b17b",
   "metadata": {
    "execution": {
     "iopub.execute_input": "2024-03-31T11:34:42.137826Z",
     "iopub.status.busy": "2024-03-31T11:34:42.137498Z",
     "iopub.status.idle": "2024-03-31T11:34:42.144380Z",
     "shell.execute_reply": "2024-03-31T11:34:42.143554Z"
    },
    "papermill": {
     "duration": 0.016284,
     "end_time": "2024-03-31T11:34:42.146449",
     "exception": false,
     "start_time": "2024-03-31T11:34:42.130165",
     "status": "completed"
    },
    "tags": []
   },
   "outputs": [
    {
     "data": {
      "text/plain": [
       "GraphSAGENet(\n",
       "  (sage1): SAGEConv(75, 512, aggr=mean)\n",
       "  (sage2): SAGEConv(512, 256, aggr=mean)\n",
       "  (sage3): SAGEConv(256, 128, aggr=mean)\n",
       "  (dropout): Dropout(p=0.5, inplace=False)\n",
       "  (lin): Linear(in_features=128, out_features=2, bias=True)\n",
       ")"
      ]
     },
     "execution_count": 12,
     "metadata": {},
     "output_type": "execute_result"
    }
   ],
   "source": [
    "model"
   ]
  },
  {
   "cell_type": "code",
   "execution_count": 13,
   "id": "a06b34f8",
   "metadata": {
    "execution": {
     "iopub.execute_input": "2024-03-31T11:34:42.161030Z",
     "iopub.status.busy": "2024-03-31T11:34:42.160574Z",
     "iopub.status.idle": "2024-03-31T11:46:47.534960Z",
     "shell.execute_reply": "2024-03-31T11:46:47.533568Z"
    },
    "papermill": {
     "duration": 725.384895,
     "end_time": "2024-03-31T11:46:47.538062",
     "exception": false,
     "start_time": "2024-03-31T11:34:42.153167",
     "status": "completed"
    },
    "tags": []
   },
   "outputs": [
    {
     "name": "stderr",
     "output_type": "stream",
     "text": [
      "                                                           "
     ]
    },
    {
     "name": "stdout",
     "output_type": "stream",
     "text": [
      "ROC AUC Score: 0.6793728321653572\n"
     ]
    },
    {
     "name": "stderr",
     "output_type": "stream",
     "text": [
      "\r"
     ]
    }
   ],
   "source": [
    "import matplotlib.pyplot as plt\n",
    "from sklearn.metrics import roc_curve, roc_auc_score\n",
    "\n",
    "model.eval()  # Set the model to evaluation mode\n",
    "y_true = []\n",
    "y_scores = []\n",
    "\n",
    "with torch.no_grad(), tqdm(valid_loader, desc=\"Evaluating\", leave=False) as tepoch:\n",
    "    for data in tepoch:\n",
    "        data = data\n",
    "        outputs = model(data)\n",
    "        # Apply sigmoid if your model outputs logits\n",
    "        probs = torch.sigmoid(outputs).squeeze()\n",
    "        \n",
    "        # Assuming the positive class is the second column\n",
    "        positive_class_probs = probs[:, 1] if probs.ndim == 2 else probs\n",
    "        labels = data.y\n",
    "        # Store true labels and positive class predictions\n",
    "        y_true.extend(labels.tolist())\n",
    "        y_scores.extend(positive_class_probs.tolist())\n",
    "\n",
    "# Now both y_true and y_scores are 1-dimensional\n",
    "roc_auc = roc_auc_score(y_true, y_scores)\n",
    "print(f'ROC AUC Score: {roc_auc}')"
   ]
  },
  {
   "cell_type": "code",
   "execution_count": 14,
   "id": "36cbdaa8",
   "metadata": {
    "execution": {
     "iopub.execute_input": "2024-03-31T11:46:47.560372Z",
     "iopub.status.busy": "2024-03-31T11:46:47.559769Z",
     "iopub.status.idle": "2024-03-31T11:46:47.913684Z",
     "shell.execute_reply": "2024-03-31T11:46:47.911611Z"
    },
    "papermill": {
     "duration": 0.367398,
     "end_time": "2024-03-31T11:46:47.916473",
     "exception": false,
     "start_time": "2024-03-31T11:46:47.549075",
     "status": "completed"
    },
    "tags": []
   },
   "outputs": [
    {
     "name": "stdout",
     "output_type": "stream",
     "text": [
      "ROC AUC Score: 0.6793728321653572\n"
     ]
    },
    {
     "data": {
      "image/png": "[encoded data removed]",
      "text/plain": [
       "<Figure size 800x600 with 1 Axes>"
      ]
     },
     "metadata": {},
     "output_type": "display_data"
    }
   ],
   "source": [
    "roc_auc = roc_auc_score(y_true, y_scores)\n",
    "print(f'ROC AUC Score: {roc_auc}')\n",
    "\n",
    "# Calculate ROC curve\n",
    "fpr, tpr, _ = roc_curve(y_true, y_scores)\n",
    "\n",
    "# Plot the ROC curve\n",
    "plt.figure(figsize=(8, 6))\n",
    "plt.plot(fpr, tpr, color='darkorange', lw=2, label=f'ROC Curve (area = {roc_auc:.2f})')\n",
    "plt.plot([0, 1], [0, 1], color='navy', lw=2, linestyle='--')\n",
    "plt.xlim([0.0, 1.0])\n",
    "plt.ylim([0.0, 1.05])\n",
    "plt.xlabel('False Positive Rate')\n",
    "plt.ylabel('True Positive Rate')\n",
    "plt.title('Receiver Operating Characteristic (ROC)')\n",
    "plt.legend(loc=\"lower right\")\n",
    "plt.show()"
   ]
  },
  {
   "cell_type": "code",
   "execution_count": null,
   "id": "e783b070",
   "metadata": {
    "papermill": {
     "duration": 0.013448,
     "end_time": "2024-03-31T11:46:47.944949",
     "exception": false,
     "start_time": "2024-03-31T11:46:47.931501",
     "status": "completed"
    },
    "tags": []
   },
   "outputs": [],
   "source": []
  }
 ],
 "metadata": {
  "kaggle": {
   "accelerator": "gpu",
   "dataSources": [
    {
     "datasetId": 4628811,
     "sourceId": 7885350,
     "sourceType": "datasetVersion"
    },
    {
     "datasetId": 4703124,
     "sourceId": 7989250,
     "sourceType": "datasetVersion"
    },
    {
     "sourceId": 168547812,
     "sourceType": "kernelVersion"
    },
    {
     "sourceId": 168795628,
     "sourceType": "kernelVersion"
    },
    {
     "sourceId": 168853474,
     "sourceType": "kernelVersion"
    },
    {
     "sourceId": 169093432,
     "sourceType": "kernelVersion"
    }
   ],
   "dockerImageVersionId": 30674,
   "isGpuEnabled": true,
   "isInternetEnabled": true,
   "language": "python",
   "sourceType": "notebook"
  },
  "kernelspec": {
   "display_name": "Python 3",
   "language": "python",
   "name": "python3"
  },
  "language_info": {
   "codemirror_mode": {
    "name": "ipython",
    "version": 3
   },
   "file_extension": ".py",
   "mimetype": "text/x-python",
   "name": "python",
   "nbconvert_exporter": "python",
   "pygments_lexer": "ipython3",
   "version": "3.10.13"
  },
  "papermill": {
   "default_parameters": {},
   "duration": 790.534598,
   "end_time": "2024-03-31T11:46:51.363650",
   "environment_variables": {},
   "exception": null,
   "input_path": "__notebook__.ipynb",
   "output_path": "__notebook__.ipynb",
   "parameters": {},
   "start_time": "2024-03-31T11:33:40.829052",
   "version": "2.5.0"
  }
 },
 "nbformat": 4,
 "nbformat_minor": 5
}
