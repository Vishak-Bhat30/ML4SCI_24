{
 "cells": [
  {
   "cell_type": "code",
   "execution_count": 1,
   "id": "97ca8f86",
   "metadata": {
    "_cell_guid": "b1076dfc-b9ad-4769-8c92-a6c4dae69d19",
    "_uuid": "8f2839f25d086af736a60e9eeb907d3b93b6e0e5",
    "execution": {
     "iopub.execute_input": "2024-03-31T10:44:22.988303Z",
     "iopub.status.busy": "2024-03-31T10:44:22.987455Z",
     "iopub.status.idle": "2024-03-31T10:44:31.548688Z",
     "shell.execute_reply": "2024-03-31T10:44:31.547865Z"
    },
    "papermill": {
     "duration": 8.571307,
     "end_time": "2024-03-31T10:44:31.551059",
     "exception": false,
     "start_time": "2024-03-31T10:44:22.979752",
     "status": "completed"
    },
    "tags": []
   },
   "outputs": [],
   "source": [
    "import torch\n",
    "import numpy as np\n",
    "import pandas as pd\n",
    "import pyarrow.parquet as pq\n",
    "import matplotlib.pyplot as plt\n",
    "from sklearn.model_selection import train_test_split\n",
    "\n",
    "import torch\n",
    "import torch.nn as nn\n",
    "from torch.utils.data import Dataset,DataLoader, random_split\n",
    "import torch.nn.functional as F\n",
    "from torchvision import models\n",
    "\n",
    "import torch.optim as optim\n",
    "from tqdm import tqdm\n",
    "\n",
    "from sklearn.metrics import roc_auc_score, confusion_matrix ,roc_curve\n",
    "import seaborn as sns"
   ]
  },
  {
   "cell_type": "code",
   "execution_count": 2,
   "id": "0b36d726",
   "metadata": {
    "execution": {
     "iopub.execute_input": "2024-03-31T10:44:31.563661Z",
     "iopub.status.busy": "2024-03-31T10:44:31.563260Z",
     "iopub.status.idle": "2024-03-31T10:44:57.894909Z",
     "shell.execute_reply": "2024-03-31T10:44:57.893720Z"
    },
    "papermill": {
     "duration": 26.340389,
     "end_time": "2024-03-31T10:44:57.897340",
     "exception": false,
     "start_time": "2024-03-31T10:44:31.556951",
     "status": "completed"
    },
    "tags": []
   },
   "outputs": [
    {
     "name": "stdout",
     "output_type": "stream",
     "text": [
      "Collecting torch_geometric\r\n",
      "  Downloading torch_geometric-2.5.2-py3-none-any.whl.metadata (64 kB)\r\n",
      "\u001b[2K     \u001b[90m━━━━━━━━━━━━━━━━━━━━━━━━━━━━━━━━━━━━━━━━\u001b[0m \u001b[32m64.2/64.2 kB\u001b[0m \u001b[31m3.8 MB/s\u001b[0m eta \u001b[36m0:00:00\u001b[0m\r\n",
      "\u001b[?25hRequirement already satisfied: tqdm in /opt/conda/lib/python3.10/site-packages (from torch_geometric) (4.66.1)\r\n",
      "Requirement already satisfied: numpy in /opt/conda/lib/python3.10/site-packages (from torch_geometric) (1.26.4)\r\n",
      "Requirement already satisfied: scipy in /opt/conda/lib/python3.10/site-packages (from torch_geometric) (1.11.4)\r\n",
      "Requirement already satisfied: fsspec in /opt/conda/lib/python3.10/site-packages (from torch_geometric) (2024.3.0)\r\n",
      "Requirement already satisfied: jinja2 in /opt/conda/lib/python3.10/site-packages (from torch_geometric) (3.1.2)\r\n",
      "Requirement already satisfied: aiohttp in /opt/conda/lib/python3.10/site-packages (from torch_geometric) (3.9.1)\r\n",
      "Requirement already satisfied: requests in /opt/conda/lib/python3.10/site-packages (from torch_geometric) (2.31.0)\r\n",
      "Requirement already satisfied: pyparsing in /opt/conda/lib/python3.10/site-packages (from torch_geometric) (3.1.1)\r\n",
      "Requirement already satisfied: scikit-learn in /opt/conda/lib/python3.10/site-packages (from torch_geometric) (1.2.2)\r\n",
      "Requirement already satisfied: psutil>=5.8.0 in /opt/conda/lib/python3.10/site-packages (from torch_geometric) (5.9.3)\r\n",
      "Requirement already satisfied: attrs>=17.3.0 in /opt/conda/lib/python3.10/site-packages (from aiohttp->torch_geometric) (23.2.0)\r\n",
      "Requirement already satisfied: multidict<7.0,>=4.5 in /opt/conda/lib/python3.10/site-packages (from aiohttp->torch_geometric) (6.0.4)\r\n",
      "Requirement already satisfied: yarl<2.0,>=1.0 in /opt/conda/lib/python3.10/site-packages (from aiohttp->torch_geometric) (1.9.3)\r\n",
      "Requirement already satisfied: frozenlist>=1.1.1 in /opt/conda/lib/python3.10/site-packages (from aiohttp->torch_geometric) (1.4.1)\r\n",
      "Requirement already satisfied: aiosignal>=1.1.2 in /opt/conda/lib/python3.10/site-packages (from aiohttp->torch_geometric) (1.3.1)\r\n",
      "Requirement already satisfied: async-timeout<5.0,>=4.0 in /opt/conda/lib/python3.10/site-packages (from aiohttp->torch_geometric) (4.0.3)\r\n",
      "Requirement already satisfied: MarkupSafe>=2.0 in /opt/conda/lib/python3.10/site-packages (from jinja2->torch_geometric) (2.1.3)\r\n",
      "Requirement already satisfied: charset-normalizer<4,>=2 in /opt/conda/lib/python3.10/site-packages (from requests->torch_geometric) (3.3.2)\r\n",
      "Requirement already satisfied: idna<4,>=2.5 in /opt/conda/lib/python3.10/site-packages (from requests->torch_geometric) (3.6)\r\n",
      "Requirement already satisfied: urllib3<3,>=1.21.1 in /opt/conda/lib/python3.10/site-packages (from requests->torch_geometric) (1.26.18)\r\n",
      "Requirement already satisfied: certifi>=2017.4.17 in /opt/conda/lib/python3.10/site-packages (from requests->torch_geometric) (2024.2.2)\r\n",
      "Requirement already satisfied: joblib>=1.1.1 in /opt/conda/lib/python3.10/site-packages (from scikit-learn->torch_geometric) (1.3.2)\r\n",
      "Requirement already satisfied: threadpoolctl>=2.0.0 in /opt/conda/lib/python3.10/site-packages (from scikit-learn->torch_geometric) (3.2.0)\r\n",
      "Downloading torch_geometric-2.5.2-py3-none-any.whl (1.1 MB)\r\n",
      "\u001b[2K   \u001b[90m━━━━━━━━━━━━━━━━━━━━━━━━━━━━━━━━━━━━━━━━\u001b[0m \u001b[32m1.1/1.1 MB\u001b[0m \u001b[31m30.3 MB/s\u001b[0m eta \u001b[36m0:00:00\u001b[0m\r\n",
      "\u001b[?25hInstalling collected packages: torch_geometric\r\n",
      "Successfully installed torch_geometric-2.5.2\r\n",
      "Requirement already satisfied: networkx in /opt/conda/lib/python3.10/site-packages (3.2.1)\r\n"
     ]
    }
   ],
   "source": [
    "!pip install torch_geometric\n",
    "!pip install networkx"
   ]
  },
  {
   "cell_type": "code",
   "execution_count": 3,
   "id": "3c6307b6",
   "metadata": {
    "execution": {
     "iopub.execute_input": "2024-03-31T10:44:57.912445Z",
     "iopub.status.busy": "2024-03-31T10:44:57.911668Z",
     "iopub.status.idle": "2024-03-31T10:44:59.906294Z",
     "shell.execute_reply": "2024-03-31T10:44:59.905424Z"
    },
    "papermill": {
     "duration": 2.004632,
     "end_time": "2024-03-31T10:44:59.908740",
     "exception": false,
     "start_time": "2024-03-31T10:44:57.904108",
     "status": "completed"
    },
    "tags": []
   },
   "outputs": [],
   "source": [
    "from torch_geometric.data import Data\n",
    "from sklearn.neighbors import kneighbors_graph\n",
    "from torch_geometric.data import Dataset, Data, DataLoader\n",
    "from sklearn.metrics import mean_squared_error\n",
    "from sklearn.neighbors import NearestNeighbors\n",
    "import networkx as nx\n",
    "from torch_geometric.utils import to_networkx\n",
    "\n",
    "\n",
    "\n",
    "from torch_geometric.loader import DataLoader\n",
    "from torch_geometric.nn import GCNConv, global_mean_pool\n",
    "from torch.nn import Linear\n",
    "import torch.nn.functional as F\n",
    "from torch.utils.data import random_split\n"
   ]
  },
  {
   "cell_type": "code",
   "execution_count": 4,
   "id": "ec3f4e7b",
   "metadata": {
    "execution": {
     "iopub.execute_input": "2024-03-31T10:44:59.924174Z",
     "iopub.status.busy": "2024-03-31T10:44:59.923373Z",
     "iopub.status.idle": "2024-03-31T10:45:13.645502Z",
     "shell.execute_reply": "2024-03-31T10:45:13.644474Z"
    },
    "papermill": {
     "duration": 13.732136,
     "end_time": "2024-03-31T10:45:13.647942",
     "exception": false,
     "start_time": "2024-03-31T10:44:59.915806",
     "status": "completed"
    },
    "tags": []
   },
   "outputs": [],
   "source": [
    "chunk_size = 25\n",
    "\n",
    "# List of Parquet file paths\n",
    "file_paths = [\n",
    "    '/kaggle/input/task2-24/QCDToGGQQ_IMGjet_RH1all_jet0_run0_n36272.test.snappy.parquet',\n",
    "    '/kaggle/input/task2-24/QCDToGGQQ_IMGjet_RH1all_jet0_run1_n47540.test.snappy.parquet',\n",
    "    '/kaggle/input/task2-24/QCDToGGQQ_IMGjet_RH1all_jet0_run2_n55494.test.snappy.parquet'\n",
    "]\n",
    "\n",
    "# Initialize an empty list to store dataframes\n",
    "dfs = []\n",
    "\n",
    "# Loop through each file path\n",
    "for file_path in file_paths:\n",
    "    # Create a Parquet file reader object\n",
    "    parquet_file = pq.ParquetFile(file_path)\n",
    "    \n",
    "    # Determine the total number of rows in the file\n",
    "    total_rows = parquet_file.metadata.num_rows\n",
    "    \n",
    "    # Calculate the number of chunks\n",
    "    num_chunks = total_rows // chunk_size + (1 if total_rows % chunk_size else 0)\n",
    "    \n",
    "    # Loop over the file in chunks\n",
    "    for chunk_index in range(num_chunks):\n",
    "        # Read a chunk of rows from the file\n",
    "        chunk = parquet_file.read_row_group(chunk_index, columns=None)\n",
    "        df = chunk.to_pandas()\n",
    "        \n",
    "        # Append the DataFrame to the list\n",
    "        dfs.append(df)\n",
    "\n",
    "# Concatenate all the DataFrames into a single DataFrame\n",
    "data = pd.concat(dfs, ignore_index=True)\n"
   ]
  },
  {
   "cell_type": "code",
   "execution_count": 5,
   "id": "f3cbb4c8",
   "metadata": {
    "execution": {
     "iopub.execute_input": "2024-03-31T10:45:13.663032Z",
     "iopub.status.busy": "2024-03-31T10:45:13.662693Z",
     "iopub.status.idle": "2024-03-31T10:45:13.667842Z",
     "shell.execute_reply": "2024-03-31T10:45:13.666954Z"
    },
    "papermill": {
     "duration": 0.015111,
     "end_time": "2024-03-31T10:45:13.669716",
     "exception": false,
     "start_time": "2024-03-31T10:45:13.654605",
     "status": "completed"
    },
    "tags": []
   },
   "outputs": [],
   "source": [
    "def to_3d(arr):\n",
    "    vishak=[]\n",
    "    for i in range (0,3):\n",
    "        vis=np.stack(np.stack(arr)[i],axis=-1)\n",
    "        vishak.append(vis)\n",
    "    vishak=np.array(vishak)\n",
    "    return vishak"
   ]
  },
  {
   "cell_type": "code",
   "execution_count": 6,
   "id": "7f5485c3",
   "metadata": {
    "execution": {
     "iopub.execute_input": "2024-03-31T10:45:13.684281Z",
     "iopub.status.busy": "2024-03-31T10:45:13.683496Z",
     "iopub.status.idle": "2024-03-31T10:45:17.893773Z",
     "shell.execute_reply": "2024-03-31T10:45:17.892736Z"
    },
    "papermill": {
     "duration": 4.219939,
     "end_time": "2024-03-31T10:45:17.896177",
     "exception": false,
     "start_time": "2024-03-31T10:45:13.676238",
     "status": "completed"
    },
    "tags": []
   },
   "outputs": [],
   "source": [
    "data[\"X_jets\"]  = data[\"X_jets\"].apply(to_3d)"
   ]
  },
  {
   "cell_type": "code",
   "execution_count": 7,
   "id": "4e3a390a",
   "metadata": {
    "execution": {
     "iopub.execute_input": "2024-03-31T10:45:17.912127Z",
     "iopub.status.busy": "2024-03-31T10:45:17.911363Z",
     "iopub.status.idle": "2024-03-31T10:45:17.920888Z",
     "shell.execute_reply": "2024-03-31T10:45:17.920015Z"
    },
    "papermill": {
     "duration": 0.019239,
     "end_time": "2024-03-31T10:45:17.922808",
     "exception": false,
     "start_time": "2024-03-31T10:45:17.903569",
     "status": "completed"
    },
    "tags": []
   },
   "outputs": [],
   "source": [
    "def image_to_graph(image, patch_size=5, n_neighbors=5):\n",
    "        \"\"\"\n",
    "        Convert an image to a graph of its 5x5 patches.\n",
    "\n",
    "        Parameters:\n",
    "        - image: A (125, 125, 3) numpy array.\n",
    "        - patch_size: Size of the square patches (default 5).\n",
    "        - n_neighbors: Number of neighbors for KNN (default 5).\n",
    "\n",
    "        Returns:\n",
    "        - nodes: An array of node features.\n",
    "        - edges: A list of tuples (i, j, mse) representing edges and their MSE.\n",
    "        \"\"\"\n",
    "        # Validate image shape\n",
    "        \n",
    "        assert image.shape[0] == image.shape[1], \"Image must be square.\"\n",
    "\n",
    "        # Number of patches along one dimension\n",
    "        num_patches = image.shape[0] // patch_size\n",
    "\n",
    "        # Initialize nodes and edges\n",
    "        nodes = []\n",
    "        edges = []\n",
    "\n",
    "        # Create patches and flatten them to create node features\n",
    "        for i in range(0, image.shape[0], patch_size):\n",
    "            for j in range(0, image.shape[1], patch_size):\n",
    "                patch = image[i:i+patch_size, j:j+patch_size, :].reshape(-1)\n",
    "                nodes.append(patch)\n",
    "\n",
    "        nodes = np.array(nodes)\n",
    "\n",
    "        # Use KNN to find nearest neighbors for each node\n",
    "        nbrs = NearestNeighbors(n_neighbors=n_neighbors+1, algorithm='ball_tree').fit(nodes)\n",
    "        distances, indices = nbrs.kneighbors(nodes)\n",
    "\n",
    "        # Calculate MSE for each pair of neighbors and create edges\n",
    "        for i in range(indices.shape[0]):\n",
    "            for j in range(1, indices.shape[1]):  # Start from 1 to skip self-connection\n",
    "                mse = mean_squared_error(nodes[i], nodes[indices[i, j]])\n",
    "                edges.append((i, indices[i, j], mse))\n",
    "\n",
    "        return nodes, edges"
   ]
  },
  {
   "cell_type": "code",
   "execution_count": 8,
   "id": "2f765234",
   "metadata": {
    "execution": {
     "iopub.execute_input": "2024-03-31T10:45:17.936631Z",
     "iopub.status.busy": "2024-03-31T10:45:17.936337Z",
     "iopub.status.idle": "2024-03-31T10:45:17.945488Z",
     "shell.execute_reply": "2024-03-31T10:45:17.944754Z"
    },
    "papermill": {
     "duration": 0.01809,
     "end_time": "2024-03-31T10:45:17.947273",
     "exception": false,
     "start_time": "2024-03-31T10:45:17.929183",
     "status": "completed"
    },
    "tags": []
   },
   "outputs": [],
   "source": [
    "class QuarkGluonDataset(Dataset):\n",
    "    \n",
    "    def __init__(self, dataframe, root='', transform=None, pre_transform=None):\n",
    "        \"\"\"\n",
    "        Custom dataset for quarks and gluons classification.\n",
    "        \n",
    "        Parameters:\n",
    "        - image_list: A list of (125, 125, 3) numpy arrays.\n",
    "        - labels: A list of integers (0 or 1) representing the class labels for the images.\n",
    "        \"\"\"\n",
    "        self.dataframe = dataframe\n",
    "        super(QuarkGluonDataset, self).__init__(root, transform, pre_transform)\n",
    "    \n",
    "   \n",
    "    def len(self):\n",
    "        return len(self.dataframe)\n",
    "    \n",
    "    def get(self, idx):\n",
    "        # Convert an image to graph data\n",
    "        image = self.dataframe.iloc[idx]['X_jets']\n",
    "        image = image.transpose(1,2,0)\n",
    "        label = self.dataframe.iloc[idx]['y']\n",
    "#         print(type(image))\n",
    "        nodes, edges = image_to_graph(image)\n",
    "        \n",
    "        # Convert to PyTorch tensors\n",
    "        x = torch.tensor(nodes, dtype=torch.float)  # Node features\n",
    "        edge_index = torch.tensor([(i, j) for i, j, _ in edges], dtype=torch.long).t().contiguous()  # Edge indices\n",
    "        edge_attr = torch.tensor([mse for _, _, mse in edges], dtype=torch.float).unsqueeze(1)  # Edge attributes\n",
    "        y = torch.tensor([label], dtype=torch.long)  # Label\n",
    "        \n",
    "        return Data(x=x, edge_index=edge_index, edge_attr=edge_attr, y=y)\n",
    "    \n",
    "    "
   ]
  },
  {
   "cell_type": "code",
   "execution_count": 9,
   "id": "06ae1a41",
   "metadata": {
    "execution": {
     "iopub.execute_input": "2024-03-31T10:45:17.961118Z",
     "iopub.status.busy": "2024-03-31T10:45:17.960786Z",
     "iopub.status.idle": "2024-03-31T10:45:17.966366Z",
     "shell.execute_reply": "2024-03-31T10:45:17.965678Z"
    },
    "papermill": {
     "duration": 0.014412,
     "end_time": "2024-03-31T10:45:17.968199",
     "exception": false,
     "start_time": "2024-03-31T10:45:17.953787",
     "status": "completed"
    },
    "tags": []
   },
   "outputs": [],
   "source": [
    "dataset = QuarkGluonDataset(data)"
   ]
  },
  {
   "cell_type": "code",
   "execution_count": 10,
   "id": "00599ec3",
   "metadata": {
    "execution": {
     "iopub.execute_input": "2024-03-31T10:45:17.982785Z",
     "iopub.status.busy": "2024-03-31T10:45:17.982542Z",
     "iopub.status.idle": "2024-03-31T10:45:18.649400Z",
     "shell.execute_reply": "2024-03-31T10:45:18.648469Z"
    },
    "papermill": {
     "duration": 0.675999,
     "end_time": "2024-03-31T10:45:18.651528",
     "exception": false,
     "start_time": "2024-03-31T10:45:17.975529",
     "status": "completed"
    },
    "tags": []
   },
   "outputs": [
    {
     "data": {
      "text/plain": [
       "Data(x=[625, 75], edge_index=[2, 3125], edge_attr=[3125, 1], y=[1])"
      ]
     },
     "execution_count": 10,
     "metadata": {},
     "output_type": "execute_result"
    }
   ],
   "source": [
    "next(iter(dataset))"
   ]
  },
  {
   "cell_type": "code",
   "execution_count": 11,
   "id": "e8fec6cd",
   "metadata": {
    "execution": {
     "iopub.execute_input": "2024-03-31T10:45:18.666820Z",
     "iopub.status.busy": "2024-03-31T10:45:18.666117Z",
     "iopub.status.idle": "2024-03-31T10:45:18.671532Z",
     "shell.execute_reply": "2024-03-31T10:45:18.670699Z"
    },
    "papermill": {
     "duration": 0.01509,
     "end_time": "2024-03-31T10:45:18.673539",
     "exception": false,
     "start_time": "2024-03-31T10:45:18.658449",
     "status": "completed"
    },
    "tags": []
   },
   "outputs": [
    {
     "data": {
      "text/plain": [
       "5573"
      ]
     },
     "execution_count": 11,
     "metadata": {},
     "output_type": "execute_result"
    }
   ],
   "source": [
    "len(dataset)"
   ]
  },
  {
   "cell_type": "code",
   "execution_count": 12,
   "id": "d5752cb1",
   "metadata": {
    "execution": {
     "iopub.execute_input": "2024-03-31T10:45:18.687689Z",
     "iopub.status.busy": "2024-03-31T10:45:18.687425Z",
     "iopub.status.idle": "2024-03-31T10:45:18.701936Z",
     "shell.execute_reply": "2024-03-31T10:45:18.701253Z"
    },
    "papermill": {
     "duration": 0.023875,
     "end_time": "2024-03-31T10:45:18.703924",
     "exception": false,
     "start_time": "2024-03-31T10:45:18.680049",
     "status": "completed"
    },
    "tags": []
   },
   "outputs": [],
   "source": [
    "dataset_size = len(dataset)\n",
    "train_size = int(0.8 * dataset_size)\n",
    "test_size = dataset_size - train_size\n",
    "\n",
    "# Perform the random split\n",
    "train_dataset, test_dataset = random_split(dataset, [train_size, test_size])\n",
    "\n",
    "# Create the DataLoaders for the train and test sets\n",
    "train_loader = DataLoader(train_dataset, batch_size=32, shuffle=True)\n",
    "valid_loader = DataLoader(test_dataset, batch_size=32, shuffle=False)"
   ]
  },
  {
   "cell_type": "code",
   "execution_count": 13,
   "id": "b3406ed1",
   "metadata": {
    "execution": {
     "iopub.execute_input": "2024-03-31T10:45:18.718620Z",
     "iopub.status.busy": "2024-03-31T10:45:18.718126Z",
     "iopub.status.idle": "2024-03-31T10:45:18.722923Z",
     "shell.execute_reply": "2024-03-31T10:45:18.722188Z"
    },
    "papermill": {
     "duration": 0.01427,
     "end_time": "2024-03-31T10:45:18.724817",
     "exception": false,
     "start_time": "2024-03-31T10:45:18.710547",
     "status": "completed"
    },
    "tags": []
   },
   "outputs": [],
   "source": [
    "# next(iter(train_loader))"
   ]
  },
  {
   "cell_type": "code",
   "execution_count": 14,
   "id": "a26eeffd",
   "metadata": {
    "execution": {
     "iopub.execute_input": "2024-03-31T10:45:18.738897Z",
     "iopub.status.busy": "2024-03-31T10:45:18.738650Z",
     "iopub.status.idle": "2024-03-31T10:45:18.748574Z",
     "shell.execute_reply": "2024-03-31T10:45:18.747733Z"
    },
    "papermill": {
     "duration": 0.019117,
     "end_time": "2024-03-31T10:45:18.750428",
     "exception": false,
     "start_time": "2024-03-31T10:45:18.731311",
     "status": "completed"
    },
    "tags": []
   },
   "outputs": [],
   "source": [
    "from torch.nn import BatchNorm1d , Dropout,  Linear\n",
    "\n",
    "class DeepGNN(torch.nn.Module):\n",
    "    def __init__(self, num_node_features, num_classes):\n",
    "        super(DeepGNN, self).__init__()\n",
    "        self.conv1 = GCNConv(num_node_features, 1024)\n",
    "        self.bn1 = BatchNorm1d(1024)\n",
    "        self.conv2 = GCNConv(1024, 512)\n",
    "        self.bn2 = BatchNorm1d(512)\n",
    "        self.conv3 = GCNConv(512, 256)\n",
    "        self.bn3 = BatchNorm1d(256)\n",
    "        self.conv4 = GCNConv(256, 128)\n",
    "        self.bn4 = BatchNorm1d(128)\n",
    "        self.dropout = Dropout(0.5)\n",
    "        self.lin = Linear(128, num_classes)\n",
    "\n",
    "    def forward(self, data):\n",
    "        x, edge_index, batch = data.x, data.edge_index, data.batch\n",
    "\n",
    "        x = F.relu(self.bn1(self.conv1(x, edge_index)))\n",
    "        x = self.dropout(x)\n",
    "        x = F.relu(self.bn2(self.conv2(x, edge_index)))\n",
    "        x = self.dropout(x)\n",
    "        x = F.relu(self.bn3(self.conv3(x, edge_index)))\n",
    "        x = self.dropout(x)\n",
    "        x = F.relu(self.bn4(self.conv4(x, edge_index)))\n",
    "\n",
    "        x = global_mean_pool(x, batch)  # Pooling to use graph-level features\n",
    "        x = self.dropout(x)\n",
    "        x = self.lin(x)\n",
    "\n",
    "        return x"
   ]
  },
  {
   "cell_type": "code",
   "execution_count": 15,
   "id": "bb80c82c",
   "metadata": {
    "execution": {
     "iopub.execute_input": "2024-03-31T10:45:18.764736Z",
     "iopub.status.busy": "2024-03-31T10:45:18.764265Z",
     "iopub.status.idle": "2024-03-31T10:45:18.888034Z",
     "shell.execute_reply": "2024-03-31T10:45:18.887027Z"
    },
    "papermill": {
     "duration": 0.133098,
     "end_time": "2024-03-31T10:45:18.890045",
     "exception": false,
     "start_time": "2024-03-31T10:45:18.756947",
     "status": "completed"
    },
    "tags": []
   },
   "outputs": [
    {
     "name": "stdout",
     "output_type": "stream",
     "text": [
      "DeepGNN(\n",
      "  (conv1): GCNConv(75, 1024)\n",
      "  (bn1): BatchNorm1d(1024, eps=1e-05, momentum=0.1, affine=True, track_running_stats=True)\n",
      "  (conv2): GCNConv(1024, 512)\n",
      "  (bn2): BatchNorm1d(512, eps=1e-05, momentum=0.1, affine=True, track_running_stats=True)\n",
      "  (conv3): GCNConv(512, 256)\n",
      "  (bn3): BatchNorm1d(256, eps=1e-05, momentum=0.1, affine=True, track_running_stats=True)\n",
      "  (conv4): GCNConv(256, 128)\n",
      "  (bn4): BatchNorm1d(128, eps=1e-05, momentum=0.1, affine=True, track_running_stats=True)\n",
      "  (dropout): Dropout(p=0.5, inplace=False)\n",
      "  (lin): Linear(in_features=128, out_features=2, bias=True)\n",
      ")\n"
     ]
    }
   ],
   "source": [
    "num_node_features = 75  # Number of features per node\n",
    "num_classes = 2  # Number of classes for binary classification\n",
    "\n",
    "model = DeepGNN(num_node_features=num_node_features, num_classes=num_classes)\n",
    "# model.load_state_dict(torch.load(\"/kaggle/input/fork-of-ml4sci-24-task3-a6/best_model.pth\"))\n",
    "print(model)"
   ]
  },
  {
   "cell_type": "code",
   "execution_count": 16,
   "id": "d0ea6def",
   "metadata": {
    "execution": {
     "iopub.execute_input": "2024-03-31T10:45:18.905382Z",
     "iopub.status.busy": "2024-03-31T10:45:18.904801Z",
     "iopub.status.idle": "2024-03-31T18:54:59.520747Z",
     "shell.execute_reply": "2024-03-31T18:54:59.519755Z"
    },
    "papermill": {
     "duration": 29380.626941,
     "end_time": "2024-03-31T18:54:59.523789",
     "exception": false,
     "start_time": "2024-03-31T10:45:18.896848",
     "status": "completed"
    },
    "tags": []
   },
   "outputs": [
    {
     "name": "stdout",
     "output_type": "stream",
     "text": [
      "Using device: cuda\n"
     ]
    },
    {
     "name": "stderr",
     "output_type": "stream",
     "text": [
      "                                                           \r"
     ]
    },
    {
     "name": "stdout",
     "output_type": "stream",
     "text": [
      "Saved Best Model: Epoch 1, Val. Acc.: 0.7049\n",
      "Epoch: 001, Train Loss: 0.6584, Val. Loss: 0.6012, Val. Acc.: 0.7049\n"
     ]
    },
    {
     "name": "stderr",
     "output_type": "stream",
     "text": [
      "                                                           \r"
     ]
    },
    {
     "name": "stdout",
     "output_type": "stream",
     "text": [
      "Epoch: 002, Train Loss: 0.6231, Val. Loss: 0.5874, Val. Acc.: 0.7004\n"
     ]
    },
    {
     "name": "stderr",
     "output_type": "stream",
     "text": [
      "                                                           \r"
     ]
    },
    {
     "name": "stdout",
     "output_type": "stream",
     "text": [
      "Saved Best Model: Epoch 3, Val. Acc.: 0.7193\n",
      "Epoch: 003, Train Loss: 0.6053, Val. Loss: 0.5735, Val. Acc.: 0.7193\n"
     ]
    },
    {
     "name": "stderr",
     "output_type": "stream",
     "text": [
      "                                                           \r"
     ]
    },
    {
     "name": "stdout",
     "output_type": "stream",
     "text": [
      "Epoch: 004, Train Loss: 0.6009, Val. Loss: 0.5994, Val. Acc.: 0.7148\n"
     ]
    },
    {
     "name": "stderr",
     "output_type": "stream",
     "text": [
      "                                                           \r"
     ]
    },
    {
     "name": "stdout",
     "output_type": "stream",
     "text": [
      "Saved Best Model: Epoch 5, Val. Acc.: 0.7220\n",
      "Epoch: 005, Train Loss: 0.5937, Val. Loss: 0.5819, Val. Acc.: 0.7220\n"
     ]
    },
    {
     "name": "stderr",
     "output_type": "stream",
     "text": [
      "                                                           \r"
     ]
    },
    {
     "name": "stdout",
     "output_type": "stream",
     "text": [
      "Epoch: 006, Train Loss: 0.5871, Val. Loss: 0.5889, Val. Acc.: 0.7121\n"
     ]
    },
    {
     "name": "stderr",
     "output_type": "stream",
     "text": [
      "                                                           \r"
     ]
    },
    {
     "name": "stdout",
     "output_type": "stream",
     "text": [
      "Epoch: 007, Train Loss: 0.5830, Val. Loss: 0.5848, Val. Acc.: 0.7085\n"
     ]
    },
    {
     "name": "stderr",
     "output_type": "stream",
     "text": [
      "                                                           \r"
     ]
    },
    {
     "name": "stdout",
     "output_type": "stream",
     "text": [
      "Epoch: 008, Train Loss: 0.5760, Val. Loss: 0.5954, Val. Acc.: 0.7076\n"
     ]
    },
    {
     "name": "stderr",
     "output_type": "stream",
     "text": [
      "                                                           \r"
     ]
    },
    {
     "name": "stdout",
     "output_type": "stream",
     "text": [
      "Epoch: 009, Train Loss: 0.5759, Val. Loss: 0.5890, Val. Acc.: 0.7013\n"
     ]
    },
    {
     "data": {
      "image/png": "[encoded data removed]",
      "text/plain": [
       "<Figure size 1200x600 with 2 Axes>"
      ]
     },
     "metadata": {},
     "output_type": "display_data"
    }
   ],
   "source": [
    "device = torch.device(\"cuda\" if torch.cuda.is_available() else \"cpu\")\n",
    "print(f'Using device: {device}')\n",
    "\n",
    "# Move the model to the chosen device\n",
    "model.to(device)\n",
    "\n",
    "def train(model, train_loader, optimizer, criterion, device):\n",
    "    model.train()\n",
    "    total_loss = 0\n",
    "    for data in tqdm(train_loader, desc=\"Training\", leave=False):\n",
    "        data = data.to(device)\n",
    "        optimizer.zero_grad()\n",
    "        out = model(data)\n",
    "        loss = criterion(out, data.y)\n",
    "        loss.backward()\n",
    "        optimizer.step()\n",
    "        total_loss += loss.item() * data.num_graphs\n",
    "    return total_loss / len(train_loader.dataset)\n",
    "\n",
    "def test(model, loader, criterion, device):\n",
    "    model.eval()\n",
    "    correct = 0\n",
    "    total_loss = 0\n",
    "    with torch.no_grad(), tqdm(loader, desc=\"Evaluating\", leave=False) as tepoch:\n",
    "        for data in tepoch:\n",
    "            data = data.to(device)\n",
    "            out = model(data)\n",
    "            loss = criterion(out, data.y)\n",
    "            total_loss += loss.item() * data.num_graphs\n",
    "            pred = out.argmax(dim=1)\n",
    "            correct += int((pred == data.y).sum())\n",
    "    accuracy = correct / len(loader.dataset)\n",
    "    return accuracy, total_loss / len(loader.dataset)\n",
    "\n",
    "optimizer = torch.optim.Adam(model.parameters(), lr=0.001)\n",
    "criterion = torch.nn.CrossEntropyLoss()\n",
    "\n",
    "train_losses = []\n",
    "val_losses = []\n",
    "val_accuracies = []\n",
    "\n",
    "best_val_acc = 0.0\n",
    "for epoch in range(1, 10):\n",
    "    train_loss = train(model, train_loader, optimizer, criterion, device)\n",
    "    val_acc, val_loss = test(model, valid_loader, criterion, device)\n",
    "    \n",
    "    train_losses.append(train_loss)\n",
    "    val_losses.append(val_loss)\n",
    "    val_accuracies.append(val_acc)\n",
    "    \n",
    "    if val_acc > best_val_acc:\n",
    "        best_val_acc = val_acc\n",
    "        torch.save(model.state_dict(), 'best_model.pth')\n",
    "        print(f\"Saved Best Model: Epoch {epoch}, Val. Acc.: {val_acc:.4f}\")\n",
    "    \n",
    "    print(f'Epoch: {epoch:03d}, Train Loss: {train_loss:.4f}, Val. Loss: {val_loss:.4f}, Val. Acc.: {val_acc:.4f}')\n",
    "\n",
    "# Plotting the training curves\n",
    "plt.figure(figsize=(12, 6))\n",
    "plt.subplot(1, 2, 1)\n",
    "plt.plot(train_losses, label='Training Loss')\n",
    "plt.plot(val_losses, label='Validation Loss')\n",
    "plt.xlabel('Epoch')\n",
    "plt.ylabel('Loss')\n",
    "plt.title('Loss Over Epochs')\n",
    "plt.legend()\n",
    "\n",
    "plt.subplot(1, 2, 2)\n",
    "plt.plot(val_accuracies, label='Validation Accuracy')\n",
    "plt.xlabel('Epoch')\n",
    "plt.ylabel('Accuracy')\n",
    "plt.title('Validation Accuracy Over Epochs')\n",
    "plt.legend()\n",
    "\n",
    "plt.tight_layout()\n",
    "plt.show()"
   ]
  },
  {
   "cell_type": "code",
   "execution_count": null,
   "id": "9d5340a5",
   "metadata": {
    "papermill": {
     "duration": 0.131113,
     "end_time": "2024-03-31T18:54:59.789055",
     "exception": false,
     "start_time": "2024-03-31T18:54:59.657942",
     "status": "completed"
    },
    "tags": []
   },
   "outputs": [],
   "source": []
  },
  {
   "cell_type": "code",
   "execution_count": null,
   "id": "fb530e46",
   "metadata": {
    "papermill": {
     "duration": 0.133776,
     "end_time": "2024-03-31T18:55:00.055128",
     "exception": false,
     "start_time": "2024-03-31T18:54:59.921352",
     "status": "completed"
    },
    "tags": []
   },
   "outputs": [],
   "source": []
  }
 ],
 "metadata": {
  "kaggle": {
   "accelerator": "gpu",
   "dataSources": [
    {
     "datasetId": 4628811,
     "sourceId": 7885350,
     "sourceType": "datasetVersion"
    },
    {
     "sourceId": 168795628,
     "sourceType": "kernelVersion"
    }
   ],
   "dockerImageVersionId": 30674,
   "isGpuEnabled": true,
   "isInternetEnabled": true,
   "language": "python",
   "sourceType": "notebook"
  },
  "kernelspec": {
   "display_name": "Python 3",
   "language": "python",
   "name": "python3"
  },
  "language_info": {
   "codemirror_mode": {
    "name": "ipython",
    "version": 3
   },
   "file_extension": ".py",
   "mimetype": "text/x-python",
   "name": "python",
   "nbconvert_exporter": "python",
   "pygments_lexer": "ipython3",
   "version": "3.10.13"
  },
  "papermill": {
   "default_parameters": {},
   "duration": 29443.44968,
   "end_time": "2024-03-31T18:55:03.687046",
   "environment_variables": {},
   "exception": null,
   "input_path": "__notebook__.ipynb",
   "output_path": "__notebook__.ipynb",
   "parameters": {},
   "start_time": "2024-03-31T10:44:20.237366",
   "version": "2.5.0"
  }
 },
 "nbformat": 4,
 "nbformat_minor": 5
}
