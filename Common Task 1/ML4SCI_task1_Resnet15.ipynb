{
 "cells": [
  {
   "cell_type": "code",
   "execution_count": 1,
   "id": "cec6ea8c",
   "metadata": {
    "_cell_guid": "b1076dfc-b9ad-4769-8c92-a6c4dae69d19",
    "_uuid": "8f2839f25d086af736a60e9eeb907d3b93b6e0e5",
    "execution": {
     "iopub.execute_input": "2024-03-24T10:50:12.336943Z",
     "iopub.status.busy": "2024-03-24T10:50:12.336641Z",
     "iopub.status.idle": "2024-03-24T10:50:20.327160Z",
     "shell.execute_reply": "2024-03-24T10:50:20.326005Z"
    },
    "papermill": {
     "duration": 7.999751,
     "end_time": "2024-03-24T10:50:20.329807",
     "exception": false,
     "start_time": "2024-03-24T10:50:12.330056",
     "status": "completed"
    },
    "tags": []
   },
   "outputs": [],
   "source": [
    "import torch\n",
    "import numpy as np\n",
    "import pandas as pd\n",
    "import h5py\n",
    "import matplotlib.pyplot as plt\n",
    "from sklearn.model_selection import train_test_split\n",
    "\n",
    "import torch\n",
    "import torch.nn as nn\n",
    "from torch.utils.data import Dataset,DataLoader\n",
    "import torch.nn.functional as F\n",
    "from torchvision import models\n",
    "from torch.optim.lr_scheduler import ReduceLROnPlateau\n",
    "\n",
    "import torch.optim as optim\n",
    "from tqdm import tqdm"
   ]
  },
  {
   "cell_type": "code",
   "execution_count": 2,
   "id": "39d69288",
   "metadata": {
    "execution": {
     "iopub.execute_input": "2024-03-24T10:50:20.343223Z",
     "iopub.status.busy": "2024-03-24T10:50:20.342298Z",
     "iopub.status.idle": "2024-03-24T10:50:20.346739Z",
     "shell.execute_reply": "2024-03-24T10:50:20.345869Z"
    },
    "papermill": {
     "duration": 0.01316,
     "end_time": "2024-03-24T10:50:20.348660",
     "exception": false,
     "start_time": "2024-03-24T10:50:20.335500",
     "status": "completed"
    },
    "tags": []
   },
   "outputs": [],
   "source": [
    "input_dir = '/kaggle/input/task1-24'"
   ]
  },
  {
   "cell_type": "code",
   "execution_count": 3,
   "id": "a02f888d",
   "metadata": {
    "execution": {
     "iopub.execute_input": "2024-03-24T10:50:20.360042Z",
     "iopub.status.busy": "2024-03-24T10:50:20.359343Z",
     "iopub.status.idle": "2024-03-24T10:50:20.365296Z",
     "shell.execute_reply": "2024-03-24T10:50:20.364444Z"
    },
    "papermill": {
     "duration": 0.014002,
     "end_time": "2024-03-24T10:50:20.367603",
     "exception": false,
     "start_time": "2024-03-24T10:50:20.353601",
     "status": "completed"
    },
    "tags": []
   },
   "outputs": [],
   "source": [
    "decays=['SinglePhotonPt50_IMGCROPS_n249k_RHv1','SingleElectronPt50_IMGCROPS_n249k_RHv1']\n",
    "\n",
    "def load_data(decays):\n",
    "    global input_dir\n",
    "\n",
    "    dsets = [h5py.File(input_dir+'/'+decay+'.hdf5') for decay in decays]\n",
    "\n",
    "    X = np.concatenate([dset['/X'] for dset in dsets]) \n",
    "    y = np.concatenate([dset['/y'] for dset in dsets])\n",
    "    assert len(X) == len(y)\n",
    "\n",
    "    return X, y"
   ]
  },
  {
   "cell_type": "code",
   "execution_count": 4,
   "id": "3f488215",
   "metadata": {
    "execution": {
     "iopub.execute_input": "2024-03-24T10:50:20.380210Z",
     "iopub.status.busy": "2024-03-24T10:50:20.379945Z",
     "iopub.status.idle": "2024-03-24T10:50:36.869666Z",
     "shell.execute_reply": "2024-03-24T10:50:36.868540Z"
    },
    "papermill": {
     "duration": 16.497719,
     "end_time": "2024-03-24T10:50:36.872009",
     "exception": false,
     "start_time": "2024-03-24T10:50:20.374290",
     "status": "completed"
    },
    "tags": []
   },
   "outputs": [
    {
     "name": "stdout",
     "output_type": "stream",
     "text": [
      "(498000, 32, 32, 2) (498000,)\n"
     ]
    }
   ],
   "source": [
    "X,y=load_data(decays)\n",
    "X = X.astype('float32') / 255.0\n",
    "print(X.shape, y.shape)\n",
    "X=X.transpose(0,3,1,2)"
   ]
  },
  {
   "cell_type": "code",
   "execution_count": 5,
   "id": "af97fe45",
   "metadata": {
    "execution": {
     "iopub.execute_input": "2024-03-24T10:50:36.885178Z",
     "iopub.status.busy": "2024-03-24T10:50:36.884838Z",
     "iopub.status.idle": "2024-03-24T10:50:38.081335Z",
     "shell.execute_reply": "2024-03-24T10:50:38.080533Z"
    },
    "papermill": {
     "duration": 1.205647,
     "end_time": "2024-03-24T10:50:38.083766",
     "exception": false,
     "start_time": "2024-03-24T10:50:36.878119",
     "status": "completed"
    },
    "tags": []
   },
   "outputs": [],
   "source": [
    "X_train,X_test,y_train,y_test=train_test_split(X,y,test_size=0.2,shuffle=True,random_state=17)"
   ]
  },
  {
   "cell_type": "code",
   "execution_count": 6,
   "id": "6d513f98",
   "metadata": {
    "execution": {
     "iopub.execute_input": "2024-03-24T10:50:38.095682Z",
     "iopub.status.busy": "2024-03-24T10:50:38.094898Z",
     "iopub.status.idle": "2024-03-24T10:50:38.146007Z",
     "shell.execute_reply": "2024-03-24T10:50:38.145092Z"
    },
    "papermill": {
     "duration": 0.05917,
     "end_time": "2024-03-24T10:50:38.148111",
     "exception": false,
     "start_time": "2024-03-24T10:50:38.088941",
     "status": "completed"
    },
    "tags": []
   },
   "outputs": [],
   "source": [
    "device=torch.device('cuda' if torch.cuda.is_available() else 'cpu')"
   ]
  },
  {
   "cell_type": "code",
   "execution_count": 7,
   "id": "880b00f4",
   "metadata": {
    "execution": {
     "iopub.execute_input": "2024-03-24T10:50:38.159753Z",
     "iopub.status.busy": "2024-03-24T10:50:38.159167Z",
     "iopub.status.idle": "2024-03-24T10:50:39.601918Z",
     "shell.execute_reply": "2024-03-24T10:50:39.601062Z"
    },
    "papermill": {
     "duration": 1.450993,
     "end_time": "2024-03-24T10:50:39.604404",
     "exception": false,
     "start_time": "2024-03-24T10:50:38.153411",
     "status": "completed"
    },
    "tags": []
   },
   "outputs": [],
   "source": [
    "X_train=(torch.tensor(X_train,dtype=torch.float32));\n",
    "X_test=torch.tensor(X_test,dtype=torch.float32);\n",
    "y_train=torch.tensor(y_train,dtype=torch.float32);\n",
    "y_test=torch.tensor(y_test,dtype=torch.float32);"
   ]
  },
  {
   "cell_type": "code",
   "execution_count": 8,
   "id": "39e712b4",
   "metadata": {
    "execution": {
     "iopub.execute_input": "2024-03-24T10:50:39.618856Z",
     "iopub.status.busy": "2024-03-24T10:50:39.618313Z",
     "iopub.status.idle": "2024-03-24T10:50:39.625582Z",
     "shell.execute_reply": "2024-03-24T10:50:39.624548Z"
    },
    "papermill": {
     "duration": 0.017268,
     "end_time": "2024-03-24T10:50:39.627993",
     "exception": false,
     "start_time": "2024-03-24T10:50:39.610725",
     "status": "completed"
    },
    "tags": []
   },
   "outputs": [],
   "source": [
    "class train_dset(Dataset):\n",
    "    \n",
    "    def __init__(self,X,y):\n",
    "        \n",
    "        self.X=X\n",
    "        self.y=y\n",
    "        \n",
    "    def __len__(self):\n",
    "        return len(self.X)\n",
    "    \n",
    "    def __getitem__(self,idx):\n",
    "        \n",
    "        return self.X[idx],self.y[idx]"
   ]
  },
  {
   "cell_type": "code",
   "execution_count": 9,
   "id": "c2551b5c",
   "metadata": {
    "execution": {
     "iopub.execute_input": "2024-03-24T10:50:39.643554Z",
     "iopub.status.busy": "2024-03-24T10:50:39.642644Z",
     "iopub.status.idle": "2024-03-24T10:50:39.647550Z",
     "shell.execute_reply": "2024-03-24T10:50:39.646510Z"
    },
    "papermill": {
     "duration": 0.015506,
     "end_time": "2024-03-24T10:50:39.650283",
     "exception": false,
     "start_time": "2024-03-24T10:50:39.634777",
     "status": "completed"
    },
    "tags": []
   },
   "outputs": [],
   "source": [
    "traindset= train_dset(X_train,y_train)"
   ]
  },
  {
   "cell_type": "code",
   "execution_count": 10,
   "id": "e777689b",
   "metadata": {
    "execution": {
     "iopub.execute_input": "2024-03-24T10:50:39.665612Z",
     "iopub.status.busy": "2024-03-24T10:50:39.665203Z",
     "iopub.status.idle": "2024-03-24T10:50:39.673073Z",
     "shell.execute_reply": "2024-03-24T10:50:39.671671Z"
    },
    "papermill": {
     "duration": 0.018282,
     "end_time": "2024-03-24T10:50:39.675991",
     "exception": false,
     "start_time": "2024-03-24T10:50:39.657709",
     "status": "completed"
    },
    "tags": []
   },
   "outputs": [],
   "source": [
    "train_loader= DataLoader(traindset,batch_size=256,shuffle=True)\n",
    "valdset= train_dset(X_test,y_test)\n",
    "valid_loader= DataLoader(traindset,batch_size=32,shuffle=True)"
   ]
  },
  {
   "cell_type": "code",
   "execution_count": 11,
   "id": "348a4238",
   "metadata": {
    "execution": {
     "iopub.execute_input": "2024-03-24T10:50:39.691642Z",
     "iopub.status.busy": "2024-03-24T10:50:39.691336Z",
     "iopub.status.idle": "2024-03-24T10:50:39.810376Z",
     "shell.execute_reply": "2024-03-24T10:50:39.809413Z"
    },
    "papermill": {
     "duration": 0.129787,
     "end_time": "2024-03-24T10:50:39.812912",
     "exception": false,
     "start_time": "2024-03-24T10:50:39.683125",
     "status": "completed"
    },
    "tags": []
   },
   "outputs": [
    {
     "name": "stdout",
     "output_type": "stream",
     "text": [
      "ResNet15(\n",
      "  (conv1): Conv2d(2, 64, kernel_size=(7, 7), stride=(2, 2), padding=(3, 3), bias=False)\n",
      "  (bn1): BatchNorm2d(64, eps=1e-05, momentum=0.1, affine=True, track_running_stats=True)\n",
      "  (maxpool): MaxPool2d(kernel_size=3, stride=2, padding=1, dilation=1, ceil_mode=False)\n",
      "  (layer1): Sequential(\n",
      "    (0): ResNetBlock(\n",
      "      (conv1): Conv2d(64, 64, kernel_size=(3, 3), stride=(1, 1), padding=(1, 1), bias=False)\n",
      "      (bn1): BatchNorm2d(64, eps=1e-05, momentum=0.1, affine=True, track_running_stats=True)\n",
      "      (conv2): Conv2d(64, 64, kernel_size=(3, 3), stride=(1, 1), padding=(1, 1), bias=False)\n",
      "      (bn2): BatchNorm2d(64, eps=1e-05, momentum=0.1, affine=True, track_running_stats=True)\n",
      "      (shortcut): Sequential()\n",
      "    )\n",
      "    (1): ResNetBlock(\n",
      "      (conv1): Conv2d(64, 64, kernel_size=(3, 3), stride=(1, 1), padding=(1, 1), bias=False)\n",
      "      (bn1): BatchNorm2d(64, eps=1e-05, momentum=0.1, affine=True, track_running_stats=True)\n",
      "      (conv2): Conv2d(64, 64, kernel_size=(3, 3), stride=(1, 1), padding=(1, 1), bias=False)\n",
      "      (bn2): BatchNorm2d(64, eps=1e-05, momentum=0.1, affine=True, track_running_stats=True)\n",
      "      (shortcut): Sequential()\n",
      "    )\n",
      "  )\n",
      "  (layer2): Sequential(\n",
      "    (0): ResNetBlock(\n",
      "      (conv1): Conv2d(64, 128, kernel_size=(3, 3), stride=(2, 2), padding=(1, 1), bias=False)\n",
      "      (bn1): BatchNorm2d(128, eps=1e-05, momentum=0.1, affine=True, track_running_stats=True)\n",
      "      (conv2): Conv2d(128, 128, kernel_size=(3, 3), stride=(1, 1), padding=(1, 1), bias=False)\n",
      "      (bn2): BatchNorm2d(128, eps=1e-05, momentum=0.1, affine=True, track_running_stats=True)\n",
      "      (shortcut): Sequential(\n",
      "        (0): Conv2d(64, 128, kernel_size=(1, 1), stride=(2, 2), bias=False)\n",
      "        (1): BatchNorm2d(128, eps=1e-05, momentum=0.1, affine=True, track_running_stats=True)\n",
      "      )\n",
      "    )\n",
      "    (1): ResNetBlock(\n",
      "      (conv1): Conv2d(128, 128, kernel_size=(3, 3), stride=(1, 1), padding=(1, 1), bias=False)\n",
      "      (bn1): BatchNorm2d(128, eps=1e-05, momentum=0.1, affine=True, track_running_stats=True)\n",
      "      (conv2): Conv2d(128, 128, kernel_size=(3, 3), stride=(1, 1), padding=(1, 1), bias=False)\n",
      "      (bn2): BatchNorm2d(128, eps=1e-05, momentum=0.1, affine=True, track_running_stats=True)\n",
      "      (shortcut): Sequential()\n",
      "    )\n",
      "  )\n",
      "  (layer3): Sequential(\n",
      "    (0): ResNetBlock(\n",
      "      (conv1): Conv2d(128, 256, kernel_size=(3, 3), stride=(2, 2), padding=(1, 1), bias=False)\n",
      "      (bn1): BatchNorm2d(256, eps=1e-05, momentum=0.1, affine=True, track_running_stats=True)\n",
      "      (conv2): Conv2d(256, 256, kernel_size=(3, 3), stride=(1, 1), padding=(1, 1), bias=False)\n",
      "      (bn2): BatchNorm2d(256, eps=1e-05, momentum=0.1, affine=True, track_running_stats=True)\n",
      "      (shortcut): Sequential(\n",
      "        (0): Conv2d(128, 256, kernel_size=(1, 1), stride=(2, 2), bias=False)\n",
      "        (1): BatchNorm2d(256, eps=1e-05, momentum=0.1, affine=True, track_running_stats=True)\n",
      "      )\n",
      "    )\n",
      "    (1): ResNetBlock(\n",
      "      (conv1): Conv2d(256, 256, kernel_size=(3, 3), stride=(1, 1), padding=(1, 1), bias=False)\n",
      "      (bn1): BatchNorm2d(256, eps=1e-05, momentum=0.1, affine=True, track_running_stats=True)\n",
      "      (conv2): Conv2d(256, 256, kernel_size=(3, 3), stride=(1, 1), padding=(1, 1), bias=False)\n",
      "      (bn2): BatchNorm2d(256, eps=1e-05, momentum=0.1, affine=True, track_running_stats=True)\n",
      "      (shortcut): Sequential()\n",
      "    )\n",
      "  )\n",
      "  (layer4): Sequential(\n",
      "    (0): ResNetBlock(\n",
      "      (conv1): Conv2d(256, 512, kernel_size=(3, 3), stride=(2, 2), padding=(1, 1), bias=False)\n",
      "      (bn1): BatchNorm2d(512, eps=1e-05, momentum=0.1, affine=True, track_running_stats=True)\n",
      "      (conv2): Conv2d(512, 512, kernel_size=(3, 3), stride=(1, 1), padding=(1, 1), bias=False)\n",
      "      (bn2): BatchNorm2d(512, eps=1e-05, momentum=0.1, affine=True, track_running_stats=True)\n",
      "      (shortcut): Sequential(\n",
      "        (0): Conv2d(256, 512, kernel_size=(1, 1), stride=(2, 2), bias=False)\n",
      "        (1): BatchNorm2d(512, eps=1e-05, momentum=0.1, affine=True, track_running_stats=True)\n",
      "      )\n",
      "    )\n",
      "  )\n",
      "  (avgpool): AdaptiveAvgPool2d(output_size=(1, 1))\n",
      "  (linear): Linear(in_features=512, out_features=2, bias=True)\n",
      ")\n"
     ]
    }
   ],
   "source": [
    "class ResNetBlock(nn.Module):\n",
    "    expansion = 1\n",
    "\n",
    "    def __init__(self, in_channels, out_channels, stride=1):\n",
    "        super(ResNetBlock, self).__init__()\n",
    "        self.conv1 = nn.Conv2d(in_channels, out_channels, kernel_size=3, stride=stride, padding=1, bias=False)\n",
    "        self.bn1 = nn.BatchNorm2d(out_channels)\n",
    "        self.conv2 = nn.Conv2d(out_channels, out_channels * ResNetBlock.expansion, kernel_size=3, padding=1, bias=False)\n",
    "        self.bn2 = nn.BatchNorm2d(out_channels * ResNetBlock.expansion)\n",
    "\n",
    "        self.shortcut = nn.Sequential()\n",
    "        if stride != 1 or in_channels != out_channels * ResNetBlock.expansion:\n",
    "            self.shortcut = nn.Sequential(\n",
    "                nn.Conv2d(in_channels, out_channels * ResNetBlock.expansion, kernel_size=1, stride=stride, bias=False),\n",
    "                nn.BatchNorm2d(out_channels * ResNetBlock.expansion)\n",
    "            )\n",
    "\n",
    "    def forward(self, x):\n",
    "        out = F.relu(self.bn1(self.conv1(x)))\n",
    "        out = self.bn2(self.conv2(out))\n",
    "        out += self.shortcut(x)\n",
    "        out = F.relu(out)\n",
    "        return out\n",
    "\n",
    "class ResNet15(nn.Module):\n",
    "    def __init__(self, block, num_blocks, num_classes=1000):\n",
    "        super(ResNet15, self).__init__()\n",
    "        self.in_planes = 64\n",
    "\n",
    "        self.conv1 = nn.Conv2d(2, 64, kernel_size=7, stride=2, padding=3, bias=False)\n",
    "        self.bn1 = nn.BatchNorm2d(64)\n",
    "        self.maxpool = nn.MaxPool2d(kernel_size=3, stride=2, padding=1)\n",
    "        self.layer1 = self._make_layer(block, 64, num_blocks[0], stride=1)\n",
    "        self.layer2 = self._make_layer(block, 128, num_blocks[1], stride=2)\n",
    "        self.layer3 = self._make_layer(block, 256, num_blocks[2], stride=2)\n",
    "        self.layer4 = self._make_layer(block, 512, num_blocks[3], stride=2)\n",
    "        self.avgpool = nn.AdaptiveAvgPool2d((1, 1))\n",
    "        self.linear = nn.Linear(512 * block.expansion, num_classes)\n",
    "\n",
    "    def _make_layer(self, block, planes, num_blocks, stride):\n",
    "        strides = [stride] + [1] * (num_blocks - 1)\n",
    "        layers = []\n",
    "        for stride in strides:\n",
    "            layers.append(block(self.in_planes, planes, stride))\n",
    "            self.in_planes = planes * block.expansion\n",
    "        return nn.Sequential(*layers)\n",
    "\n",
    "    def forward(self, x):\n",
    "        out = F.relu(self.bn1(self.conv1(x)))\n",
    "        out = self.maxpool(out)\n",
    "        out = self.layer1(out)\n",
    "        out = self.layer2(out)\n",
    "        out = self.layer3(out)\n",
    "        out = self.layer4(out)\n",
    "        out = self.avgpool(out)\n",
    "        out = torch.flatten(out, 1)\n",
    "        out = self.linear(out)\n",
    "        return out\n",
    "\n",
    "def resnet15():\n",
    "    return ResNet15(ResNetBlock, [2, 2, 2, 1], num_classes=2)\n",
    "\n",
    "model = resnet15()\n",
    "print(model)"
   ]
  },
  {
   "cell_type": "code",
   "execution_count": 12,
   "id": "707a90fa",
   "metadata": {
    "execution": {
     "iopub.execute_input": "2024-03-24T10:50:39.829121Z",
     "iopub.status.busy": "2024-03-24T10:50:39.828807Z",
     "iopub.status.idle": "2024-03-24T13:27:55.427885Z",
     "shell.execute_reply": "2024-03-24T13:27:55.427006Z"
    },
    "papermill": {
     "duration": 9451.944074,
     "end_time": "2024-03-24T13:28:11.764452",
     "exception": false,
     "start_time": "2024-03-24T10:50:39.820378",
     "status": "completed"
    },
    "tags": []
   },
   "outputs": [
    {
     "name": "stderr",
     "output_type": "stream",
     "text": [
      "Epoch 1/100: 100%|██████████| 1557/1557 [00:50<00:00, 31.05it/s, loss=0.6487]\n"
     ]
    },
    {
     "name": "stdout",
     "output_type": "stream",
     "text": [
      "Validation Accuracy: 66.48%\n",
      "VAL LOSS 0.6248022351997444\n",
      "Model parameters saved\n"
     ]
    },
    {
     "name": "stderr",
     "output_type": "stream",
     "text": [
      "Epoch 2/100: 100%|██████████| 1557/1557 [00:49<00:00, 31.77it/s, loss=0.5921]\n"
     ]
    },
    {
     "name": "stdout",
     "output_type": "stream",
     "text": [
      "Validation Accuracy: 70.10%\n",
      "VAL LOSS 0.5814248332297467\n",
      "Model parameters saved\n"
     ]
    },
    {
     "name": "stderr",
     "output_type": "stream",
     "text": [
      "Epoch 3/100: 100%|██████████| 1557/1557 [00:49<00:00, 31.50it/s, loss=0.5810]\n"
     ]
    },
    {
     "name": "stdout",
     "output_type": "stream",
     "text": [
      "Validation Accuracy: 70.62%\n",
      "VAL LOSS 0.5761805608042752\n",
      "Model parameters saved\n"
     ]
    },
    {
     "name": "stderr",
     "output_type": "stream",
     "text": [
      "Epoch 4/100: 100%|██████████| 1557/1557 [00:49<00:00, 31.71it/s, loss=0.5785]\n"
     ]
    },
    {
     "name": "stdout",
     "output_type": "stream",
     "text": [
      "Validation Accuracy: 70.54%\n",
      "VAL LOSS 0.5789472480255916\n"
     ]
    },
    {
     "name": "stderr",
     "output_type": "stream",
     "text": [
      "Epoch 5/100: 100%|██████████| 1557/1557 [00:49<00:00, 31.72it/s, loss=0.5706]\n"
     ]
    },
    {
     "name": "stdout",
     "output_type": "stream",
     "text": [
      "Validation Accuracy: 71.19%\n",
      "VAL LOSS 0.5701333442557768\n",
      "Model parameters saved\n"
     ]
    },
    {
     "name": "stderr",
     "output_type": "stream",
     "text": [
      "Epoch 6/100: 100%|██████████| 1557/1557 [00:49<00:00, 31.69it/s, loss=0.5664]\n"
     ]
    },
    {
     "name": "stdout",
     "output_type": "stream",
     "text": [
      "Validation Accuracy: 70.35%\n",
      "VAL LOSS 0.5755361403207703\n"
     ]
    },
    {
     "name": "stderr",
     "output_type": "stream",
     "text": [
      "Epoch 7/100: 100%|██████████| 1557/1557 [00:49<00:00, 31.65it/s, loss=0.5638]\n"
     ]
    },
    {
     "name": "stdout",
     "output_type": "stream",
     "text": [
      "Validation Accuracy: 71.56%\n",
      "VAL LOSS 0.562363235069566\n",
      "Model parameters saved\n"
     ]
    },
    {
     "name": "stderr",
     "output_type": "stream",
     "text": [
      "Epoch 8/100: 100%|██████████| 1557/1557 [00:49<00:00, 31.68it/s, loss=0.5602]\n"
     ]
    },
    {
     "name": "stdout",
     "output_type": "stream",
     "text": [
      "Validation Accuracy: 69.94%\n",
      "VAL LOSS 0.5811026369089104\n"
     ]
    },
    {
     "name": "stderr",
     "output_type": "stream",
     "text": [
      "Epoch 9/100: 100%|██████████| 1557/1557 [00:49<00:00, 31.74it/s, loss=0.5585]\n"
     ]
    },
    {
     "name": "stdout",
     "output_type": "stream",
     "text": [
      "Validation Accuracy: 71.83%\n",
      "VAL LOSS 0.5612486721018711\n",
      "Model parameters saved\n"
     ]
    },
    {
     "name": "stderr",
     "output_type": "stream",
     "text": [
      "Epoch 10/100: 100%|██████████| 1557/1557 [00:49<00:00, 31.61it/s, loss=0.5567]\n"
     ]
    },
    {
     "name": "stdout",
     "output_type": "stream",
     "text": [
      "Validation Accuracy: 72.25%\n",
      "VAL LOSS 0.5552245756445161\n",
      "Model parameters saved\n"
     ]
    },
    {
     "name": "stderr",
     "output_type": "stream",
     "text": [
      "Epoch 11/100: 100%|██████████| 1557/1557 [00:49<00:00, 31.53it/s, loss=0.5549]\n"
     ]
    },
    {
     "name": "stdout",
     "output_type": "stream",
     "text": [
      "Validation Accuracy: 72.49%\n",
      "VAL LOSS 0.552205709408086\n",
      "Model parameters saved\n"
     ]
    },
    {
     "name": "stderr",
     "output_type": "stream",
     "text": [
      "Epoch 12/100: 100%|██████████| 1557/1557 [00:49<00:00, 31.48it/s, loss=0.5536]\n"
     ]
    },
    {
     "name": "stdout",
     "output_type": "stream",
     "text": [
      "Validation Accuracy: 72.35%\n",
      "VAL LOSS 0.5524907271498178\n"
     ]
    },
    {
     "name": "stderr",
     "output_type": "stream",
     "text": [
      "Epoch 13/100: 100%|██████████| 1557/1557 [00:49<00:00, 31.63it/s, loss=0.5518]\n"
     ]
    },
    {
     "name": "stdout",
     "output_type": "stream",
     "text": [
      "Validation Accuracy: 72.49%\n",
      "VAL LOSS 0.5519434210502479\n",
      "Model parameters saved\n"
     ]
    },
    {
     "name": "stderr",
     "output_type": "stream",
     "text": [
      "Epoch 14/100: 100%|██████████| 1557/1557 [00:48<00:00, 31.78it/s, loss=0.5506]\n"
     ]
    },
    {
     "name": "stdout",
     "output_type": "stream",
     "text": [
      "Validation Accuracy: 72.77%\n",
      "VAL LOSS 0.5533749504692583\n"
     ]
    },
    {
     "name": "stderr",
     "output_type": "stream",
     "text": [
      "Epoch 15/100: 100%|██████████| 1557/1557 [00:49<00:00, 31.64it/s, loss=0.5497]\n"
     ]
    },
    {
     "name": "stdout",
     "output_type": "stream",
     "text": [
      "Validation Accuracy: 72.74%\n",
      "VAL LOSS 0.5481765819290076\n",
      "Model parameters saved\n"
     ]
    },
    {
     "name": "stderr",
     "output_type": "stream",
     "text": [
      "Epoch 16/100: 100%|██████████| 1557/1557 [00:49<00:00, 31.75it/s, loss=0.5485]\n"
     ]
    },
    {
     "name": "stdout",
     "output_type": "stream",
     "text": [
      "Validation Accuracy: 72.71%\n",
      "VAL LOSS 0.5504423090875388\n"
     ]
    },
    {
     "name": "stderr",
     "output_type": "stream",
     "text": [
      "Epoch 17/100: 100%|██████████| 1557/1557 [00:48<00:00, 31.80it/s, loss=0.5476]\n"
     ]
    },
    {
     "name": "stdout",
     "output_type": "stream",
     "text": [
      "Validation Accuracy: 72.54%\n",
      "VAL LOSS 0.5502169950731308\n"
     ]
    },
    {
     "name": "stderr",
     "output_type": "stream",
     "text": [
      "Epoch 18/100: 100%|██████████| 1557/1557 [00:49<00:00, 31.74it/s, loss=0.5466]\n"
     ]
    },
    {
     "name": "stdout",
     "output_type": "stream",
     "text": [
      "Validation Accuracy: 72.52%\n",
      "VAL LOSS 0.552760998254799\n"
     ]
    },
    {
     "name": "stderr",
     "output_type": "stream",
     "text": [
      "Epoch 19/100: 100%|██████████| 1557/1557 [00:49<00:00, 31.65it/s, loss=0.5456]\n"
     ]
    },
    {
     "name": "stdout",
     "output_type": "stream",
     "text": [
      "Validation Accuracy: 73.14%\n",
      "VAL LOSS 0.5433026764299496\n",
      "Model parameters saved\n"
     ]
    },
    {
     "name": "stderr",
     "output_type": "stream",
     "text": [
      "Epoch 20/100: 100%|██████████| 1557/1557 [00:48<00:00, 31.78it/s, loss=0.5448]\n"
     ]
    },
    {
     "name": "stdout",
     "output_type": "stream",
     "text": [
      "Validation Accuracy: 72.94%\n",
      "VAL LOSS 0.5455859466465601\n"
     ]
    },
    {
     "name": "stderr",
     "output_type": "stream",
     "text": [
      "Epoch 21/100: 100%|██████████| 1557/1557 [00:49<00:00, 31.64it/s, loss=0.5442]\n"
     ]
    },
    {
     "name": "stdout",
     "output_type": "stream",
     "text": [
      "Validation Accuracy: 72.37%\n",
      "VAL LOSS 0.5507934770574532\n"
     ]
    },
    {
     "name": "stderr",
     "output_type": "stream",
     "text": [
      "Epoch 22/100: 100%|██████████| 1557/1557 [00:49<00:00, 31.38it/s, loss=0.5434]\n"
     ]
    },
    {
     "name": "stdout",
     "output_type": "stream",
     "text": [
      "Validation Accuracy: 73.21%\n",
      "VAL LOSS 0.5412512985554087\n",
      "Model parameters saved\n"
     ]
    },
    {
     "name": "stderr",
     "output_type": "stream",
     "text": [
      "Epoch 23/100: 100%|██████████| 1557/1557 [00:48<00:00, 31.78it/s, loss=0.5428]\n"
     ]
    },
    {
     "name": "stdout",
     "output_type": "stream",
     "text": [
      "Validation Accuracy: 72.95%\n",
      "VAL LOSS 0.5465211545272046\n"
     ]
    },
    {
     "name": "stderr",
     "output_type": "stream",
     "text": [
      "Epoch 24/100: 100%|██████████| 1557/1557 [00:48<00:00, 31.82it/s, loss=0.5420]\n"
     ]
    },
    {
     "name": "stdout",
     "output_type": "stream",
     "text": [
      "Validation Accuracy: 71.99%\n",
      "VAL LOSS 0.5562260487855198\n"
     ]
    },
    {
     "name": "stderr",
     "output_type": "stream",
     "text": [
      "Epoch 25/100: 100%|██████████| 1557/1557 [00:49<00:00, 31.77it/s, loss=0.5412]\n"
     ]
    },
    {
     "name": "stdout",
     "output_type": "stream",
     "text": [
      "Validation Accuracy: 73.42%\n",
      "VAL LOSS 0.5392252399308615\n",
      "Model parameters saved\n"
     ]
    },
    {
     "name": "stderr",
     "output_type": "stream",
     "text": [
      "Epoch 26/100: 100%|██████████| 1557/1557 [00:49<00:00, 31.18it/s, loss=0.5405]\n"
     ]
    },
    {
     "name": "stdout",
     "output_type": "stream",
     "text": [
      "Validation Accuracy: 72.85%\n",
      "VAL LOSS 0.5460323387145039\n"
     ]
    },
    {
     "name": "stderr",
     "output_type": "stream",
     "text": [
      "Epoch 27/100: 100%|██████████| 1557/1557 [00:48<00:00, 31.79it/s, loss=0.5398]\n"
     ]
    },
    {
     "name": "stdout",
     "output_type": "stream",
     "text": [
      "Validation Accuracy: 73.01%\n",
      "VAL LOSS 0.5472645206049265\n"
     ]
    },
    {
     "name": "stderr",
     "output_type": "stream",
     "text": [
      "Epoch 28/100: 100%|██████████| 1557/1557 [00:49<00:00, 31.58it/s, loss=0.5390]\n"
     ]
    },
    {
     "name": "stdout",
     "output_type": "stream",
     "text": [
      "Validation Accuracy: 70.89%\n",
      "VAL LOSS 0.5707740216202525\n"
     ]
    },
    {
     "name": "stderr",
     "output_type": "stream",
     "text": [
      "Epoch 29/100: 100%|██████████| 1557/1557 [00:49<00:00, 31.53it/s, loss=0.5381]\n"
     ]
    },
    {
     "name": "stdout",
     "output_type": "stream",
     "text": [
      "Validation Accuracy: 73.57%\n",
      "VAL LOSS 0.5391745297006335\n",
      "Model parameters saved\n"
     ]
    },
    {
     "name": "stderr",
     "output_type": "stream",
     "text": [
      "Epoch 30/100: 100%|██████████| 1557/1557 [00:49<00:00, 31.68it/s, loss=0.5372]\n"
     ]
    },
    {
     "name": "stdout",
     "output_type": "stream",
     "text": [
      "Validation Accuracy: 70.66%\n",
      "VAL LOSS 0.5689475093859745\n"
     ]
    },
    {
     "name": "stderr",
     "output_type": "stream",
     "text": [
      "Epoch 31/100: 100%|██████████| 1557/1557 [00:48<00:00, 31.85it/s, loss=0.5365]\n"
     ]
    },
    {
     "name": "stdout",
     "output_type": "stream",
     "text": [
      "Validation Accuracy: 73.71%\n",
      "VAL LOSS 0.5342880853304423\n",
      "Model parameters saved\n"
     ]
    },
    {
     "name": "stderr",
     "output_type": "stream",
     "text": [
      "Epoch 32/100: 100%|██████████| 1557/1557 [00:49<00:00, 31.77it/s, loss=0.5357]\n"
     ]
    },
    {
     "name": "stdout",
     "output_type": "stream",
     "text": [
      "Validation Accuracy: 73.93%\n",
      "VAL LOSS 0.5314864061395806\n",
      "Model parameters saved\n"
     ]
    },
    {
     "name": "stderr",
     "output_type": "stream",
     "text": [
      "Epoch 33/100: 100%|██████████| 1557/1557 [00:49<00:00, 31.61it/s, loss=0.5348]\n"
     ]
    },
    {
     "name": "stdout",
     "output_type": "stream",
     "text": [
      "Validation Accuracy: 73.27%\n",
      "VAL LOSS 0.5422045154073631\n"
     ]
    },
    {
     "name": "stderr",
     "output_type": "stream",
     "text": [
      "Epoch 34/100: 100%|██████████| 1557/1557 [00:49<00:00, 31.53it/s, loss=0.5341]\n"
     ]
    },
    {
     "name": "stdout",
     "output_type": "stream",
     "text": [
      "Validation Accuracy: 73.91%\n",
      "VAL LOSS 0.5298664232382334\n",
      "Model parameters saved\n"
     ]
    },
    {
     "name": "stderr",
     "output_type": "stream",
     "text": [
      "Epoch 35/100: 100%|██████████| 1557/1557 [00:49<00:00, 31.76it/s, loss=0.5325]\n"
     ]
    },
    {
     "name": "stdout",
     "output_type": "stream",
     "text": [
      "Validation Accuracy: 74.09%\n",
      "VAL LOSS 0.5291359571256791\n",
      "Model parameters saved\n"
     ]
    },
    {
     "name": "stderr",
     "output_type": "stream",
     "text": [
      "Epoch 36/100: 100%|██████████| 1557/1557 [00:48<00:00, 31.86it/s, loss=0.5312]\n"
     ]
    },
    {
     "name": "stdout",
     "output_type": "stream",
     "text": [
      "Validation Accuracy: 74.10%\n",
      "VAL LOSS 0.5285029813300175\n",
      "Model parameters saved\n"
     ]
    },
    {
     "name": "stderr",
     "output_type": "stream",
     "text": [
      "Epoch 37/100: 100%|██████████| 1557/1557 [00:48<00:00, 31.88it/s, loss=0.5297]\n"
     ]
    },
    {
     "name": "stdout",
     "output_type": "stream",
     "text": [
      "Validation Accuracy: 74.37%\n",
      "VAL LOSS 0.5249031470602296\n",
      "Model parameters saved\n"
     ]
    },
    {
     "name": "stderr",
     "output_type": "stream",
     "text": [
      "Epoch 38/100: 100%|██████████| 1557/1557 [00:49<00:00, 31.62it/s, loss=0.5283]\n"
     ]
    },
    {
     "name": "stdout",
     "output_type": "stream",
     "text": [
      "Validation Accuracy: 74.01%\n",
      "VAL LOSS 0.5304503122175553\n"
     ]
    },
    {
     "name": "stderr",
     "output_type": "stream",
     "text": [
      "Epoch 39/100: 100%|██████████| 1557/1557 [00:49<00:00, 31.51it/s, loss=0.5275]\n"
     ]
    },
    {
     "name": "stdout",
     "output_type": "stream",
     "text": [
      "Validation Accuracy: 74.59%\n",
      "VAL LOSS 0.5204340561757604\n",
      "Model parameters saved\n"
     ]
    },
    {
     "name": "stderr",
     "output_type": "stream",
     "text": [
      "Epoch 40/100: 100%|██████████| 1557/1557 [00:49<00:00, 31.76it/s, loss=0.5256]\n"
     ]
    },
    {
     "name": "stdout",
     "output_type": "stream",
     "text": [
      "Validation Accuracy: 74.70%\n",
      "VAL LOSS 0.5188804630582112\n",
      "Model parameters saved\n"
     ]
    },
    {
     "name": "stderr",
     "output_type": "stream",
     "text": [
      "Epoch 41/100: 100%|██████████| 1557/1557 [00:48<00:00, 31.89it/s, loss=0.5236]\n"
     ]
    },
    {
     "name": "stdout",
     "output_type": "stream",
     "text": [
      "Validation Accuracy: 74.55%\n",
      "VAL LOSS 0.5212169805037449\n"
     ]
    },
    {
     "name": "stderr",
     "output_type": "stream",
     "text": [
      "Epoch 42/100: 100%|██████████| 1557/1557 [00:49<00:00, 31.67it/s, loss=0.5219]\n"
     ]
    },
    {
     "name": "stdout",
     "output_type": "stream",
     "text": [
      "Validation Accuracy: 74.96%\n",
      "VAL LOSS 0.5151671526039461\n",
      "Model parameters saved\n"
     ]
    },
    {
     "name": "stderr",
     "output_type": "stream",
     "text": [
      "Epoch 43/100: 100%|██████████| 1557/1557 [00:49<00:00, 31.50it/s, loss=0.5202]\n"
     ]
    },
    {
     "name": "stdout",
     "output_type": "stream",
     "text": [
      "Validation Accuracy: 74.95%\n",
      "VAL LOSS 0.516704078582396\n"
     ]
    },
    {
     "name": "stderr",
     "output_type": "stream",
     "text": [
      "Epoch 44/100: 100%|██████████| 1557/1557 [00:49<00:00, 31.63it/s, loss=0.5180]\n"
     ]
    },
    {
     "name": "stdout",
     "output_type": "stream",
     "text": [
      "Validation Accuracy: 75.00%\n",
      "VAL LOSS 0.5132674221700454\n",
      "Model parameters saved\n"
     ]
    },
    {
     "name": "stderr",
     "output_type": "stream",
     "text": [
      "Epoch 45/100: 100%|██████████| 1557/1557 [00:49<00:00, 31.70it/s, loss=0.5157]\n"
     ]
    },
    {
     "name": "stdout",
     "output_type": "stream",
     "text": [
      "Validation Accuracy: 74.76%\n",
      "VAL LOSS 0.516327121217088\n"
     ]
    },
    {
     "name": "stderr",
     "output_type": "stream",
     "text": [
      "Epoch 46/100: 100%|██████████| 1557/1557 [00:49<00:00, 31.54it/s, loss=0.5142]\n"
     ]
    },
    {
     "name": "stdout",
     "output_type": "stream",
     "text": [
      "Validation Accuracy: 75.12%\n",
      "VAL LOSS 0.5145665846723151\n"
     ]
    },
    {
     "name": "stderr",
     "output_type": "stream",
     "text": [
      "Epoch 47/100: 100%|██████████| 1557/1557 [00:49<00:00, 31.66it/s, loss=0.5111]\n"
     ]
    },
    {
     "name": "stdout",
     "output_type": "stream",
     "text": [
      "Validation Accuracy: 75.57%\n",
      "VAL LOSS 0.5021793938233671\n",
      "Model parameters saved\n"
     ]
    },
    {
     "name": "stderr",
     "output_type": "stream",
     "text": [
      "Epoch 48/100: 100%|██████████| 1557/1557 [00:49<00:00, 31.68it/s, loss=0.5084]\n"
     ]
    },
    {
     "name": "stdout",
     "output_type": "stream",
     "text": [
      "Validation Accuracy: 75.72%\n",
      "VAL LOSS 0.5016016201226108\n",
      "Model parameters saved\n"
     ]
    },
    {
     "name": "stderr",
     "output_type": "stream",
     "text": [
      "Epoch 49/100: 100%|██████████| 1557/1557 [00:49<00:00, 31.40it/s, loss=0.5063]\n"
     ]
    },
    {
     "name": "stdout",
     "output_type": "stream",
     "text": [
      "Validation Accuracy: 75.68%\n",
      "VAL LOSS 0.5018607098869531\n"
     ]
    },
    {
     "name": "stderr",
     "output_type": "stream",
     "text": [
      "Epoch 50/100: 100%|██████████| 1557/1557 [00:49<00:00, 31.20it/s, loss=0.5033]\n"
     ]
    },
    {
     "name": "stdout",
     "output_type": "stream",
     "text": [
      "Validation Accuracy: 75.88%\n",
      "VAL LOSS 0.49904596384749356\n",
      "Model parameters saved\n"
     ]
    },
    {
     "name": "stderr",
     "output_type": "stream",
     "text": [
      "Epoch 51/100: 100%|██████████| 1557/1557 [00:49<00:00, 31.39it/s, loss=0.5007]\n"
     ]
    },
    {
     "name": "stdout",
     "output_type": "stream",
     "text": [
      "Validation Accuracy: 76.04%\n",
      "VAL LOSS 0.4988877097167164\n",
      "Model parameters saved\n"
     ]
    },
    {
     "name": "stderr",
     "output_type": "stream",
     "text": [
      "Epoch 52/100: 100%|██████████| 1557/1557 [00:49<00:00, 31.71it/s, loss=0.4975]\n"
     ]
    },
    {
     "name": "stdout",
     "output_type": "stream",
     "text": [
      "Validation Accuracy: 76.19%\n",
      "VAL LOSS 0.49314767559249717\n",
      "Model parameters saved\n"
     ]
    },
    {
     "name": "stderr",
     "output_type": "stream",
     "text": [
      "Epoch 53/100: 100%|██████████| 1557/1557 [00:49<00:00, 31.69it/s, loss=0.4944]\n"
     ]
    },
    {
     "name": "stdout",
     "output_type": "stream",
     "text": [
      "Validation Accuracy: 76.29%\n",
      "VAL LOSS 0.49478981559654794\n"
     ]
    },
    {
     "name": "stderr",
     "output_type": "stream",
     "text": [
      "Epoch 54/100: 100%|██████████| 1557/1557 [00:49<00:00, 31.56it/s, loss=0.4915]\n"
     ]
    },
    {
     "name": "stdout",
     "output_type": "stream",
     "text": [
      "Validation Accuracy: 76.91%\n",
      "VAL LOSS 0.4824931853231656\n",
      "Model parameters saved\n"
     ]
    },
    {
     "name": "stderr",
     "output_type": "stream",
     "text": [
      "Epoch 55/100: 100%|██████████| 1557/1557 [00:49<00:00, 31.63it/s, loss=0.4883]\n"
     ]
    },
    {
     "name": "stdout",
     "output_type": "stream",
     "text": [
      "Validation Accuracy: 76.80%\n",
      "VAL LOSS 0.48184763990013474\n",
      "Model parameters saved\n"
     ]
    },
    {
     "name": "stderr",
     "output_type": "stream",
     "text": [
      "Epoch 56/100: 100%|██████████| 1557/1557 [00:49<00:00, 31.50it/s, loss=0.4850]\n"
     ]
    },
    {
     "name": "stdout",
     "output_type": "stream",
     "text": [
      "Validation Accuracy: 77.35%\n",
      "VAL LOSS 0.4739610567665004\n",
      "Model parameters saved\n"
     ]
    },
    {
     "name": "stderr",
     "output_type": "stream",
     "text": [
      "Epoch 57/100: 100%|██████████| 1557/1557 [00:49<00:00, 31.64it/s, loss=0.4817]\n"
     ]
    },
    {
     "name": "stdout",
     "output_type": "stream",
     "text": [
      "Validation Accuracy: 77.22%\n",
      "VAL LOSS 0.47208080351233006\n",
      "Model parameters saved\n"
     ]
    },
    {
     "name": "stderr",
     "output_type": "stream",
     "text": [
      "Epoch 58/100: 100%|██████████| 1557/1557 [00:49<00:00, 31.48it/s, loss=0.4785]\n"
     ]
    },
    {
     "name": "stdout",
     "output_type": "stream",
     "text": [
      "Validation Accuracy: 77.75%\n",
      "VAL LOSS 0.4668126268080439\n",
      "Model parameters saved\n"
     ]
    },
    {
     "name": "stderr",
     "output_type": "stream",
     "text": [
      "Epoch 59/100: 100%|██████████| 1557/1557 [00:49<00:00, 31.46it/s, loss=0.4758]\n"
     ]
    },
    {
     "name": "stdout",
     "output_type": "stream",
     "text": [
      "Validation Accuracy: 77.60%\n",
      "VAL LOSS 0.46920376521157453\n"
     ]
    },
    {
     "name": "stderr",
     "output_type": "stream",
     "text": [
      "Epoch 60/100: 100%|██████████| 1557/1557 [00:49<00:00, 31.71it/s, loss=0.4723]\n"
     ]
    },
    {
     "name": "stdout",
     "output_type": "stream",
     "text": [
      "Validation Accuracy: 78.15%\n",
      "VAL LOSS 0.4585331719946191\n",
      "Model parameters saved\n"
     ]
    },
    {
     "name": "stderr",
     "output_type": "stream",
     "text": [
      "Epoch 61/100: 100%|██████████| 1557/1557 [00:49<00:00, 31.68it/s, loss=0.4698]\n"
     ]
    },
    {
     "name": "stdout",
     "output_type": "stream",
     "text": [
      "Validation Accuracy: 77.04%\n",
      "VAL LOSS 0.4782900764437086\n"
     ]
    },
    {
     "name": "stderr",
     "output_type": "stream",
     "text": [
      "Epoch 62/100: 100%|██████████| 1557/1557 [00:49<00:00, 31.53it/s, loss=0.4654]\n"
     ]
    },
    {
     "name": "stdout",
     "output_type": "stream",
     "text": [
      "Validation Accuracy: 78.41%\n",
      "VAL LOSS 0.4552701862138438\n",
      "Model parameters saved\n"
     ]
    },
    {
     "name": "stderr",
     "output_type": "stream",
     "text": [
      "Epoch 63/100: 100%|██████████| 1557/1557 [00:49<00:00, 31.72it/s, loss=0.4628]\n"
     ]
    },
    {
     "name": "stdout",
     "output_type": "stream",
     "text": [
      "Validation Accuracy: 77.72%\n",
      "VAL LOSS 0.46556333069341727\n"
     ]
    },
    {
     "name": "stderr",
     "output_type": "stream",
     "text": [
      "Epoch 64/100: 100%|██████████| 1557/1557 [00:49<00:00, 31.47it/s, loss=0.4599]\n"
     ]
    },
    {
     "name": "stdout",
     "output_type": "stream",
     "text": [
      "Validation Accuracy: 78.07%\n",
      "VAL LOSS 0.4584923901758998\n"
     ]
    },
    {
     "name": "stderr",
     "output_type": "stream",
     "text": [
      "Epoch 65/100: 100%|██████████| 1557/1557 [00:49<00:00, 31.45it/s, loss=0.4570]\n"
     ]
    },
    {
     "name": "stdout",
     "output_type": "stream",
     "text": [
      "Validation Accuracy: 79.12%\n",
      "VAL LOSS 0.4416053142593089\n",
      "Model parameters saved\n"
     ]
    },
    {
     "name": "stderr",
     "output_type": "stream",
     "text": [
      "Epoch 66/100: 100%|██████████| 1557/1557 [00:49<00:00, 31.64it/s, loss=0.4535]\n"
     ]
    },
    {
     "name": "stdout",
     "output_type": "stream",
     "text": [
      "Validation Accuracy: 79.33%\n",
      "VAL LOSS 0.4378437192480727\n",
      "Model parameters saved\n"
     ]
    },
    {
     "name": "stderr",
     "output_type": "stream",
     "text": [
      "Epoch 67/100: 100%|██████████| 1557/1557 [00:49<00:00, 31.68it/s, loss=0.4497]\n"
     ]
    },
    {
     "name": "stdout",
     "output_type": "stream",
     "text": [
      "Validation Accuracy: 78.64%\n",
      "VAL LOSS 0.4483649630216231\n"
     ]
    },
    {
     "name": "stderr",
     "output_type": "stream",
     "text": [
      "Epoch 68/100: 100%|██████████| 1557/1557 [00:49<00:00, 31.71it/s, loss=0.4472]\n"
     ]
    },
    {
     "name": "stdout",
     "output_type": "stream",
     "text": [
      "Validation Accuracy: 79.18%\n",
      "VAL LOSS 0.43802718674921126\n"
     ]
    },
    {
     "name": "stderr",
     "output_type": "stream",
     "text": [
      "Epoch 69/100: 100%|██████████| 1557/1557 [00:49<00:00, 31.73it/s, loss=0.4440]\n"
     ]
    },
    {
     "name": "stdout",
     "output_type": "stream",
     "text": [
      "Validation Accuracy: 79.75%\n",
      "VAL LOSS 0.4279266878208482\n",
      "Model parameters saved\n"
     ]
    },
    {
     "name": "stderr",
     "output_type": "stream",
     "text": [
      "Epoch 70/100: 100%|██████████| 1557/1557 [00:49<00:00, 31.58it/s, loss=0.4407]\n"
     ]
    },
    {
     "name": "stdout",
     "output_type": "stream",
     "text": [
      "Validation Accuracy: 80.04%\n",
      "VAL LOSS 0.4253380128226606\n",
      "Model parameters saved\n"
     ]
    },
    {
     "name": "stderr",
     "output_type": "stream",
     "text": [
      "Epoch 71/100: 100%|██████████| 1557/1557 [00:49<00:00, 31.54it/s, loss=0.4379]\n"
     ]
    },
    {
     "name": "stdout",
     "output_type": "stream",
     "text": [
      "Validation Accuracy: 78.51%\n",
      "VAL LOSS 0.45313221406027016\n"
     ]
    },
    {
     "name": "stderr",
     "output_type": "stream",
     "text": [
      "Epoch 72/100: 100%|██████████| 1557/1557 [00:49<00:00, 31.52it/s, loss=0.4351]\n"
     ]
    },
    {
     "name": "stdout",
     "output_type": "stream",
     "text": [
      "Validation Accuracy: 80.55%\n",
      "VAL LOSS 0.4155937864813939\n",
      "Model parameters saved\n"
     ]
    },
    {
     "name": "stderr",
     "output_type": "stream",
     "text": [
      "Epoch 73/100: 100%|██████████| 1557/1557 [00:49<00:00, 31.36it/s, loss=0.4320]\n"
     ]
    },
    {
     "name": "stdout",
     "output_type": "stream",
     "text": [
      "Validation Accuracy: 80.38%\n",
      "VAL LOSS 0.4166763121978825\n"
     ]
    },
    {
     "name": "stderr",
     "output_type": "stream",
     "text": [
      "Epoch 74/100: 100%|██████████| 1557/1557 [00:49<00:00, 31.29it/s, loss=0.4298]\n"
     ]
    },
    {
     "name": "stdout",
     "output_type": "stream",
     "text": [
      "Validation Accuracy: 80.60%\n",
      "VAL LOSS 0.41327495568009265\n",
      "Model parameters saved\n"
     ]
    },
    {
     "name": "stderr",
     "output_type": "stream",
     "text": [
      "Epoch 75/100: 100%|██████████| 1557/1557 [00:49<00:00, 31.37it/s, loss=0.4264]\n"
     ]
    },
    {
     "name": "stdout",
     "output_type": "stream",
     "text": [
      "Validation Accuracy: 80.89%\n",
      "VAL LOSS 0.4063302849705918\n",
      "Model parameters saved\n"
     ]
    },
    {
     "name": "stderr",
     "output_type": "stream",
     "text": [
      "Epoch 76/100: 100%|██████████| 1557/1557 [00:49<00:00, 31.39it/s, loss=0.4229]\n"
     ]
    },
    {
     "name": "stdout",
     "output_type": "stream",
     "text": [
      "Validation Accuracy: 80.93%\n",
      "VAL LOSS 0.4078762285608843\n"
     ]
    },
    {
     "name": "stderr",
     "output_type": "stream",
     "text": [
      "Epoch 77/100: 100%|██████████| 1557/1557 [00:49<00:00, 31.37it/s, loss=0.4209]\n"
     ]
    },
    {
     "name": "stdout",
     "output_type": "stream",
     "text": [
      "Validation Accuracy: 80.69%\n",
      "VAL LOSS 0.4115363219907006\n"
     ]
    },
    {
     "name": "stderr",
     "output_type": "stream",
     "text": [
      "Epoch 78/100: 100%|██████████| 1557/1557 [00:49<00:00, 31.19it/s, loss=0.4178]\n"
     ]
    },
    {
     "name": "stdout",
     "output_type": "stream",
     "text": [
      "Validation Accuracy: 80.97%\n",
      "VAL LOSS 0.4071580402583004\n"
     ]
    },
    {
     "name": "stderr",
     "output_type": "stream",
     "text": [
      "Epoch 79/100: 100%|██████████| 1557/1557 [00:49<00:00, 31.36it/s, loss=0.4149]\n"
     ]
    },
    {
     "name": "stdout",
     "output_type": "stream",
     "text": [
      "Validation Accuracy: 81.40%\n",
      "VAL LOSS 0.39828109385737454\n",
      "Model parameters saved\n"
     ]
    },
    {
     "name": "stderr",
     "output_type": "stream",
     "text": [
      "Epoch 80/100: 100%|██████████| 1557/1557 [00:49<00:00, 31.41it/s, loss=0.4117]\n"
     ]
    },
    {
     "name": "stdout",
     "output_type": "stream",
     "text": [
      "Validation Accuracy: 81.57%\n",
      "VAL LOSS 0.3933989692488349\n",
      "Model parameters saved\n"
     ]
    },
    {
     "name": "stderr",
     "output_type": "stream",
     "text": [
      "Epoch 81/100: 100%|██████████| 1557/1557 [00:49<00:00, 31.37it/s, loss=0.4094]\n"
     ]
    },
    {
     "name": "stdout",
     "output_type": "stream",
     "text": [
      "Validation Accuracy: 81.76%\n",
      "VAL LOSS 0.3899749170046255\n",
      "Model parameters saved\n"
     ]
    },
    {
     "name": "stderr",
     "output_type": "stream",
     "text": [
      "Epoch 82/100: 100%|██████████| 1557/1557 [00:49<00:00, 31.19it/s, loss=0.4073]\n"
     ]
    },
    {
     "name": "stdout",
     "output_type": "stream",
     "text": [
      "Validation Accuracy: 81.59%\n",
      "VAL LOSS 0.39391602487688565\n"
     ]
    },
    {
     "name": "stderr",
     "output_type": "stream",
     "text": [
      "Epoch 83/100: 100%|██████████| 1557/1557 [00:49<00:00, 31.40it/s, loss=0.4043]\n"
     ]
    },
    {
     "name": "stdout",
     "output_type": "stream",
     "text": [
      "Validation Accuracy: 81.80%\n",
      "VAL LOSS 0.3903451767970759\n"
     ]
    },
    {
     "name": "stderr",
     "output_type": "stream",
     "text": [
      "Epoch 84/100: 100%|██████████| 1557/1557 [00:49<00:00, 31.39it/s, loss=0.4018]\n"
     ]
    },
    {
     "name": "stdout",
     "output_type": "stream",
     "text": [
      "Validation Accuracy: 82.33%\n",
      "VAL LOSS 0.37974317365741156\n",
      "Model parameters saved\n"
     ]
    },
    {
     "name": "stderr",
     "output_type": "stream",
     "text": [
      "Epoch 85/100: 100%|██████████| 1557/1557 [00:49<00:00, 31.34it/s, loss=0.3999]\n"
     ]
    },
    {
     "name": "stdout",
     "output_type": "stream",
     "text": [
      "Validation Accuracy: 81.23%\n",
      "VAL LOSS 0.4002989715888318\n"
     ]
    },
    {
     "name": "stderr",
     "output_type": "stream",
     "text": [
      "Epoch 86/100: 100%|██████████| 1557/1557 [00:49<00:00, 31.30it/s, loss=0.3961]\n"
     ]
    },
    {
     "name": "stdout",
     "output_type": "stream",
     "text": [
      "Validation Accuracy: 82.00%\n",
      "VAL LOSS 0.38686123835633557\n"
     ]
    },
    {
     "name": "stderr",
     "output_type": "stream",
     "text": [
      "Epoch 87/100: 100%|██████████| 1557/1557 [00:49<00:00, 31.44it/s, loss=0.3942]\n"
     ]
    },
    {
     "name": "stdout",
     "output_type": "stream",
     "text": [
      "Validation Accuracy: 81.63%\n",
      "VAL LOSS 0.39264570223997874\n"
     ]
    },
    {
     "name": "stderr",
     "output_type": "stream",
     "text": [
      "Epoch 88/100: 100%|██████████| 1557/1557 [00:49<00:00, 31.37it/s, loss=0.3911]\n"
     ]
    },
    {
     "name": "stdout",
     "output_type": "stream",
     "text": [
      "Validation Accuracy: 81.56%\n",
      "VAL LOSS 0.3944386924952867\n"
     ]
    },
    {
     "name": "stderr",
     "output_type": "stream",
     "text": [
      "Epoch 89/100: 100%|██████████| 1557/1557 [00:49<00:00, 31.39it/s, loss=0.3892]\n"
     ]
    },
    {
     "name": "stdout",
     "output_type": "stream",
     "text": [
      "Validation Accuracy: 82.73%\n",
      "VAL LOSS 0.3711244593806056\n",
      "Model parameters saved\n"
     ]
    },
    {
     "name": "stderr",
     "output_type": "stream",
     "text": [
      "Epoch 90/100: 100%|██████████| 1557/1557 [00:49<00:00, 31.24it/s, loss=0.3860]\n"
     ]
    },
    {
     "name": "stdout",
     "output_type": "stream",
     "text": [
      "Validation Accuracy: 81.37%\n",
      "VAL LOSS 0.3979433212797326\n"
     ]
    },
    {
     "name": "stderr",
     "output_type": "stream",
     "text": [
      "Epoch 91/100: 100%|██████████| 1557/1557 [00:49<00:00, 31.37it/s, loss=0.3843]\n"
     ]
    },
    {
     "name": "stdout",
     "output_type": "stream",
     "text": [
      "Validation Accuracy: 83.07%\n",
      "VAL LOSS 0.3663971064230764\n",
      "Model parameters saved\n"
     ]
    },
    {
     "name": "stderr",
     "output_type": "stream",
     "text": [
      "Epoch 92/100: 100%|██████████| 1557/1557 [00:49<00:00, 31.42it/s, loss=0.3813]\n"
     ]
    },
    {
     "name": "stdout",
     "output_type": "stream",
     "text": [
      "Validation Accuracy: 83.19%\n",
      "VAL LOSS 0.3647212438411023\n",
      "Model parameters saved\n"
     ]
    },
    {
     "name": "stderr",
     "output_type": "stream",
     "text": [
      "Epoch 93/100: 100%|██████████| 1557/1557 [00:49<00:00, 31.39it/s, loss=0.3794]\n"
     ]
    },
    {
     "name": "stdout",
     "output_type": "stream",
     "text": [
      "Validation Accuracy: 83.04%\n",
      "VAL LOSS 0.36728143226190746\n"
     ]
    },
    {
     "name": "stderr",
     "output_type": "stream",
     "text": [
      "Epoch 94/100: 100%|██████████| 1557/1557 [00:49<00:00, 31.23it/s, loss=0.3773]\n"
     ]
    },
    {
     "name": "stdout",
     "output_type": "stream",
     "text": [
      "Validation Accuracy: 83.00%\n",
      "VAL LOSS 0.3670871036831873\n"
     ]
    },
    {
     "name": "stderr",
     "output_type": "stream",
     "text": [
      "Epoch 95/100: 100%|██████████| 1557/1557 [00:49<00:00, 31.37it/s, loss=0.3736]\n"
     ]
    },
    {
     "name": "stdout",
     "output_type": "stream",
     "text": [
      "Validation Accuracy: 83.14%\n",
      "VAL LOSS 0.36274191730891364\n",
      "Model parameters saved\n"
     ]
    },
    {
     "name": "stderr",
     "output_type": "stream",
     "text": [
      "Epoch 96/100: 100%|██████████| 1557/1557 [00:49<00:00, 31.45it/s, loss=0.3731]\n"
     ]
    },
    {
     "name": "stdout",
     "output_type": "stream",
     "text": [
      "Validation Accuracy: 83.85%\n",
      "VAL LOSS 0.35128677918429835\n",
      "Model parameters saved\n"
     ]
    },
    {
     "name": "stderr",
     "output_type": "stream",
     "text": [
      "Epoch 97/100: 100%|██████████| 1557/1557 [00:49<00:00, 31.34it/s, loss=0.3702]\n"
     ]
    },
    {
     "name": "stdout",
     "output_type": "stream",
     "text": [
      "Validation Accuracy: 83.57%\n",
      "VAL LOSS 0.3576608578950526\n"
     ]
    },
    {
     "name": "stderr",
     "output_type": "stream",
     "text": [
      "Epoch 98/100: 100%|██████████| 1557/1557 [00:49<00:00, 31.26it/s, loss=0.3683]\n"
     ]
    },
    {
     "name": "stdout",
     "output_type": "stream",
     "text": [
      "Validation Accuracy: 83.46%\n",
      "VAL LOSS 0.3551161865513009\n"
     ]
    },
    {
     "name": "stderr",
     "output_type": "stream",
     "text": [
      "Epoch 99/100: 100%|██████████| 1557/1557 [00:49<00:00, 31.40it/s, loss=0.3664]\n"
     ]
    },
    {
     "name": "stdout",
     "output_type": "stream",
     "text": [
      "Validation Accuracy: 83.94%\n",
      "VAL LOSS 0.3492181719342868\n",
      "Model parameters saved\n"
     ]
    },
    {
     "name": "stderr",
     "output_type": "stream",
     "text": [
      "Epoch 100/100: 100%|██████████| 1557/1557 [00:49<00:00, 31.36it/s, loss=0.3649]\n"
     ]
    },
    {
     "name": "stdout",
     "output_type": "stream",
     "text": [
      "Validation Accuracy: 84.11%\n",
      "VAL LOSS 0.34736170422121226\n",
      "Model parameters saved\n",
      "Finished Training\n"
     ]
    },
    {
     "data": {
      "image/png": "[encoded data removed]",
      "text/plain": [
       "<Figure size 1000x600 with 1 Axes>"
      ]
     },
     "metadata": {},
     "output_type": "display_data"
    }
   ],
   "source": [
    "criterion = nn.CrossEntropyLoss()\n",
    "optimizer = optim.Adam(model.parameters(), lr=0.01)\n",
    "scheduler = ReduceLROnPlateau(optimizer, 'min', factor=0.1, patience=10, verbose=True)\n",
    "best_loss = 100000\n",
    "device = torch.device(\"cuda\" if torch.cuda.is_available() else \"cpu\")\n",
    "model.to(device)\n",
    "\n",
    "num_epochs = 100\n",
    "train_losses = []\n",
    "\n",
    "for epoch in range(num_epochs):\n",
    "    model.train()\n",
    "    running_loss = 0.0\n",
    "    progress_bar = tqdm(enumerate(train_loader), total=len(train_loader), desc=f\"Epoch {epoch+1}/{num_epochs}\")\n",
    "\n",
    "    for i, data in progress_bar:\n",
    "\n",
    "        inputs, labels = data[0].to(device), data[1].to(device)\n",
    "        labels = labels.long()\n",
    "        \n",
    "        optimizer.zero_grad()\n",
    "        \n",
    "        outputs = model(inputs)\n",
    "        loss = criterion(outputs, labels)\n",
    "        loss.backward()\n",
    "        optimizer.step()\n",
    "        \n",
    "        running_loss += loss.item()\n",
    "        progress_bar.set_postfix(loss=f\"{running_loss / (i + 1):.4f}\")\n",
    "\n",
    "    # Average training loss for the epoch\n",
    "    train_loss = running_loss / len(train_loader)\n",
    "    train_losses.append(train_loss)\n",
    "    \n",
    "    # Validation loss\n",
    "    model.eval()\n",
    "    total = 0\n",
    "    correct = 0\n",
    "    with torch.no_grad():\n",
    "        validation_loss = 0.0\n",
    "        for inputs, labels in valid_loader:\n",
    "            inputs, labels = inputs.to(device), labels.to(device)\n",
    "            labels = labels.long()\n",
    "            outputs = model(inputs)\n",
    "            loss = criterion(outputs, labels)\n",
    "            validation_loss += loss.item()\n",
    "            _, predicted = torch.max(outputs.data, 1)\n",
    "            total += labels.size(0)\n",
    "            correct += (predicted == labels).sum().item()\n",
    "        validation_loss /= len(valid_loader)\n",
    "        accuracy = 100 * correct / total\n",
    "        print(f'Validation Accuracy: {accuracy:.2f}%')\n",
    "    \n",
    "    print(\"VAL LOSS\",validation_loss)\n",
    "    best_loss =  min(validation_loss , best_loss)\n",
    "    if(best_loss == validation_loss):\n",
    "     \n",
    "        torch.save(model.state_dict(), f'model_resnet15.pth')\n",
    "        print('Model parameters saved')\n",
    "\n",
    "    scheduler.step(validation_loss)\n",
    "\n",
    "print('Finished Training')\n",
    "\n",
    "\n",
    "\n",
    "# Plotting the learning curve\n",
    "plt.figure(figsize=(10, 6))\n",
    "plt.plot(train_losses, label='Training Loss')\n",
    "plt.xlabel('Epoch', fontsize=14)\n",
    "plt.ylabel('Loss', fontsize=14)\n",
    "plt.title('Learning Curve', fontsize=16)\n",
    "plt.legend()\n",
    "plt.grid(True)\n",
    "plt.show()"
   ]
  },
  {
   "cell_type": "markdown",
   "id": "856716da",
   "metadata": {
    "papermill": {
     "duration": 16.194724,
     "end_time": "2024-03-24T13:28:44.252006",
     "exception": false,
     "start_time": "2024-03-24T13:28:28.057282",
     "status": "completed"
    },
    "tags": []
   },
   "source": [
    "# Validation"
   ]
  },
  {
   "cell_type": "code",
   "execution_count": 13,
   "id": "7c8f39ca",
   "metadata": {
    "execution": {
     "iopub.execute_input": "2024-03-24T13:29:16.877895Z",
     "iopub.status.busy": "2024-03-24T13:29:16.877384Z",
     "iopub.status.idle": "2024-03-24T13:30:00.880608Z",
     "shell.execute_reply": "2024-03-24T13:30:00.879496Z"
    },
    "papermill": {
     "duration": 60.122734,
     "end_time": "2024-03-24T13:30:00.882630",
     "exception": false,
     "start_time": "2024-03-24T13:29:00.759896",
     "status": "completed"
    },
    "tags": []
   },
   "outputs": [
    {
     "name": "stdout",
     "output_type": "stream",
     "text": [
      "Validation Accuracy: 84.11%\n"
     ]
    }
   ],
   "source": [
    "model.eval()  \n",
    "total = 0\n",
    "correct = 0\n",
    "\n",
    "\n",
    "with torch.no_grad():  \n",
    "    for inputs, labels in valid_loader:\n",
    "        inputs, labels = inputs.to(device), labels.to(device)\n",
    "        \n",
    "        outputs = model(inputs)\n",
    "        _, predicted = torch.max(outputs.data, 1)\n",
    "        total += labels.size(0)\n",
    "        correct += (predicted == labels).sum().item()\n",
    "\n",
    "accuracy = 100 * correct / total\n",
    "print(f'Validation Accuracy: {accuracy:.2f}%')"
   ]
  },
  {
   "cell_type": "code",
   "execution_count": null,
   "id": "e471adbf",
   "metadata": {
    "papermill": {
     "duration": 16.51563,
     "end_time": "2024-03-24T13:30:33.752465",
     "exception": false,
     "start_time": "2024-03-24T13:30:17.236835",
     "status": "completed"
    },
    "tags": []
   },
   "outputs": [],
   "source": []
  },
  {
   "cell_type": "code",
   "execution_count": null,
   "id": "5d9c5395",
   "metadata": {
    "papermill": {
     "duration": 16.668225,
     "end_time": "2024-03-24T13:31:07.013623",
     "exception": false,
     "start_time": "2024-03-24T13:30:50.345398",
     "status": "completed"
    },
    "tags": []
   },
   "outputs": [],
   "source": []
  },
  {
   "cell_type": "code",
   "execution_count": null,
   "id": "5e5fb196",
   "metadata": {
    "papermill": {
     "duration": 16.374887,
     "end_time": "2024-03-24T13:31:39.844015",
     "exception": false,
     "start_time": "2024-03-24T13:31:23.469128",
     "status": "completed"
    },
    "tags": []
   },
   "outputs": [],
   "source": []
  }
 ],
 "metadata": {
  "kaggle": {
   "accelerator": "gpu",
   "dataSources": [
    {
     "datasetId": 4626371,
     "sourceId": 7882200,
     "sourceType": "datasetVersion"
    }
   ],
   "dockerImageVersionId": 30665,
   "isGpuEnabled": true,
   "isInternetEnabled": true,
   "language": "python",
   "sourceType": "notebook"
  },
  "kernelspec": {
   "display_name": "Python 3",
   "language": "python",
   "name": "python3"
  },
  "language_info": {
   "codemirror_mode": {
    "name": "ipython",
    "version": 3
   },
   "file_extension": ".py",
   "mimetype": "text/x-python",
   "name": "python",
   "nbconvert_exporter": "python",
   "pygments_lexer": "ipython3",
   "version": "3.10.13"
  },
  "papermill": {
   "default_parameters": {},
   "duration": 9709.259809,
   "end_time": "2024-03-24T13:31:59.025141",
   "environment_variables": {},
   "exception": null,
   "input_path": "__notebook__.ipynb",
   "output_path": "__notebook__.ipynb",
   "parameters": {},
   "start_time": "2024-03-24T10:50:09.765332",
   "version": "2.5.0"
  }
 },
 "nbformat": 4,
 "nbformat_minor": 5
}
